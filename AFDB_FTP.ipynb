{
  "nbformat": 4,
  "nbformat_minor": 0,
  "metadata": {
    "colab": {
      "provenance": [],
      "include_colab_link": true
    },
    "kernelspec": {
      "name": "python3",
      "display_name": "Python 3"
    },
    "language_info": {
      "name": "python"
    }
  },
  "cells": [
    {
      "cell_type": "markdown",
      "metadata": {
        "id": "view-in-github",
        "colab_type": "text"
      },
      "source": [
        "<a href=\"https://colab.research.google.com/github/paulynamagana/AFDB_notebooks/blob/main/AFDB_FTP.ipynb\" target=\"_parent\"><img src=\"https://colab.research.google.com/assets/colab-badge.svg\" alt=\"Open In Colab\"/></a>"
      ]
    },
    {
      "cell_type": "markdown",
      "source": [
        "\n",
        "<img src = \"https://www.embl.org/about/info/communications/wp-content/uploads/2017/09/Ebi_official_logo.png\"\n",
        " height=\"100\" align=\"right\">\n",
        "\n",
        "# Access structures from AlphaFold DB via FTP\n",
        "\n",
        "FTP, or File Transfer Protocol, is a standard network protocol facilitating the exchange of files between computers.\n",
        "\n",
        "\n",
        "\n",
        "<br>\n",
        "\n",
        "As of September 2023, the EMBL-EBI’s FTP area hosts TAR files for proteomes of 48 organisms, including model organisms and WHO pathogens of interest.\n",
        "\n",
        "We document every data version update in our [CHANGELOG](https://ftp.ebi.ac.uk/pub/databases/alphafold/CHANGELOG.txt).\n",
        "\n",
        "\n",
        "<br>\n",
        "\n",
        "The folders are named following a structured convention, comprising three distinct elements separated by underscores:\n",
        "\n",
        "- Reference Proteome (UPID): UP000000429\n",
        "- Taxonomy ID: 85962\n",
        "- Organism: HELPY (derived from the first three characters of the genus, \"Helicobacter,\" and the first two characters of the species, \"pylori\").\n",
        "\n",
        "<br>\n",
        "\n",
        "In order to understand the folders, visit the [Downloads tab](https://alphafold.ebi.ac.uk/download)\n",
        "\n",
        "You can also find the compressed files for Swiss-Prot which contains 542,378 predicted structures:\n",
        "\n",
        "|File type|File name|Size|\n",
        "|---------|--------------|---------------------|\n",
        "|Swiss-Prot (CIF Files)|swissprot_cif_v4.tar| 37,643 MB|\n",
        "|Swiss-Prot (PDB files)|swissprot_pdb_v4.tar|26,935 MB|\n",
        "\n",
        "\n"
      ],
      "metadata": {
        "id": "LDa23wtBDv5w"
      }
    },
    {
      "cell_type": "code",
      "execution_count": 31,
      "metadata": {
        "id": "bZnvx4lyvZIj",
        "outputId": "865cbe74-ac0c-4c6c-86c1-25546c9505b8",
        "colab": {
          "base_uri": "https://localhost:8080/"
        }
      },
      "outputs": [
        {
          "output_type": "stream",
          "name": "stdout",
          "text": [
            "CHANGELOG.txt\n",
            "README.txt\n",
            "accession_ids.csv\n",
            "download_metadata.json\n",
            "latest\n",
            "sequences.fasta\n",
            "v1\n",
            "v2\n",
            "v3\n",
            "v4\n"
          ]
        }
      ],
      "source": [
        "import ftplib\n",
        "\n",
        "ftp_server = ftplib.FTP(\"ftp.ebi.ac.uk\")\n",
        "\n",
        "# Login as an anonymous user\n",
        "ftp_server.login(\"anonymous\", \"anonymous@\")\n",
        "\n",
        "# Navigate to the directory\n",
        "ftp_server.cwd(\"/pub/databases/alphafold/\")\n",
        "\n",
        "# List the contents of the directory\n",
        "# Retrieve and print the list of file names in the directory\n",
        "file_names = ftp_server.nlst()\n",
        "for file_name in file_names:\n",
        "    print(file_name)"
      ]
    },
    {
      "cell_type": "code",
      "source": [
        "#@title #See all the available proteomes in one version\n",
        "folder_navigate = \"v3\" #@param {type:\"string\"}\n",
        "#@markdown `folder_navigate` is the version of the AFDB that you want to use to download\n",
        "\n",
        "#@title Navigate to the \"v4\" directory\n",
        "ftp_server.cwd(folder_navigate)\n",
        "\n",
        "# Retrieve and print the list of file names in the directory\n",
        "file_names = ftp_server.nlst()\n",
        "for file_name in file_names:\n",
        "    print(file_name)"
      ],
      "metadata": {
        "colab": {
          "base_uri": "https://localhost:8080/"
        },
        "id": "OSaz9_sLwrhN",
        "outputId": "447a1c60-be28-4c36-c3ef-2073765a2b61",
        "cellView": "form"
      },
      "execution_count": 32,
      "outputs": [
        {
          "output_type": "stream",
          "name": "stdout",
          "text": [
            "UP000000429_85962_HELPY_v3.tar\n",
            "UP000000437_7955_DANRE_v3.tar\n",
            "UP000000535_242231_NEIG1_v3.tar\n",
            "UP000000559_237561_CANAL_v3.tar\n",
            "UP000000579_71421_HAEIN_v3.tar\n",
            "UP000000586_171101_STRR6_v3.tar\n",
            "UP000000589_10090_MOUSE_v3.tar\n",
            "UP000000625_83333_ECOLI_v3.tar\n",
            "UP000000799_192222_CAMJE_v3.tar\n",
            "UP000000803_7227_DROME_v3.tar\n",
            "UP000000805_243232_METJA_v3.tar\n",
            "UP000000806_272631_MYCLE_v3.tar\n",
            "UP000001014_99287_SALTY_v3.tar\n",
            "UP000001450_36329_PLAF7_v3.tar\n",
            "UP000001584_83332_MYCTU_v3.tar\n",
            "UP000001631_447093_AJECG_v3.tar\n",
            "UP000001940_6239_CAEEL_v3.tar\n",
            "UP000002059_502779_PARBA_v3.tar\n",
            "UP000002195_44689_DICDI_v3.tar\n",
            "UP000002296_353153_TRYCC_v3.tar\n",
            "UP000002311_559292_YEAST_v3.tar\n",
            "UP000002438_208964_PSEAE_v3.tar\n",
            "UP000002485_284812_SCHPO_v3.tar\n",
            "UP000002494_10116_RAT_v3.tar\n",
            "UP000002716_300267_SHIDS_v3.tar\n",
            "UP000005640_9606_HUMAN_v3.tar\n",
            "UP000006304_1133849_9NOCA1_v3.tar\n",
            "UP000006548_3702_ARATH_v3.tar\n",
            "UP000006672_6279_BRUMA_v3.tar\n",
            "UP000007305_4577_MAIZE_v3.tar\n",
            "UP000007841_1125630_KLEPH_v3.tar\n",
            "UP000008153_5671_LEIIN_v3.tar\n",
            "UP000008524_185431_TRYB2_v3.tar\n",
            "UP000008816_93061_STAA8_v3.tar\n",
            "UP000008827_3847_SOYBN_v3.tar\n",
            "UP000008854_6183_SCHMA_v3.tar\n",
            "UP000018087_1391915_SPOS1_v3.tar\n",
            "UP000020681_1299332_MYCUL_v3.tar\n",
            "UP000024404_6282_ONCVO_v3.tar\n",
            "UP000030665_36087_TRITR_v3.tar\n",
            "UP000035681_6248_STRER_v3.tar\n",
            "UP000053029_1442368_9EURO2_v3.tar\n",
            "UP000059680_39947_ORYSJ_v3.tar\n",
            "UP000078237_100816_9PEZI1_v3.tar\n",
            "UP000094526_86049_9EURO1_v3.tar\n",
            "UP000270924_6293_WUCBA_v3.tar\n",
            "UP000274756_318479_DRAME_v3.tar\n",
            "UP000325664_1352_ENTFC_v3.tar\n",
            "mane_overlap_v3.tar\n",
            "swissprot_cif_v3.tar\n",
            "swissprot_pdb_v3.tar\n",
            "v3_affected_accessions.txt\n"
          ]
        }
      ]
    },
    {
      "cell_type": "code",
      "source": [
        "#@title #Extract specific files from the proteome\n",
        "\n",
        "from ftplib import FTP\n",
        "import tarfile\n",
        "import tempfile\n",
        "import os\n",
        "from google.colab import files\n",
        "\n",
        "def extract_specific_file_from_ftp(folder_navigate, tar_file, file_fragment_names):\n",
        "    username = 'anonymous'\n",
        "    password = 'anonymous'\n",
        "    ftp_server = \"ftp.ebi.ac.uk\"\n",
        "    base_path = 'pub/databases/alphafold/' + folder_navigate + '/'  # Dynamically use folder_navigate\n",
        "    file_path = base_path + tar_file\n",
        "\n",
        "    # Convert the string of file fragments into a list\n",
        "    file_fragment_names = file_fragment_names.split(', ')\n",
        "\n",
        "    # Connect to the FTP server\n",
        "    with FTP(ftp_server) as ftp:\n",
        "        ftp.login(username, password)\n",
        "\n",
        "        # Use a temporary file to store the tar file\n",
        "        with tempfile.NamedTemporaryFile(delete=False) as tmp_file:\n",
        "            try:\n",
        "                ftp.retrbinary(f'RETR {file_path}', tmp_file.write)\n",
        "                tar_file_path = tmp_file.name\n",
        "            except Exception as e:\n",
        "                print(f\"Error downloading the file: {e}\")\n",
        "                return  # Exit the function if there's an error\n",
        "\n",
        "        # Open the temporary tar file for reading\n",
        "        try:\n",
        "            with tarfile.open(tar_file_path, mode=\"r:*\") as tar:\n",
        "                for file_fragment_name in file_fragment_names:  # Iterate over each file fragment name\n",
        "                    extracted = False\n",
        "                    for member in tar.getmembers():\n",
        "                        if file_fragment_name in member.name:\n",
        "                            extracted_file = tar.extractfile(member)\n",
        "                            if extracted_file:\n",
        "                                content = extracted_file.read()\n",
        "                                output_filename = f\"{member.name.replace('/', '_')}\"\n",
        "                                with open(output_filename, 'wb') as f_out:\n",
        "                                    f_out.write(content)\n",
        "                                print(f\"Extracted and saved {member.name} as {output_filename}.\")\n",
        "                                extracted = True\n",
        "                                # Download the file to the local system\n",
        "                                files.download(output_filename)\n",
        "                                break  # Break if file is found and extracted\n",
        "                    if not extracted:\n",
        "                        print(f\"File containing '{file_fragment_name}' not found in the tar archive.\")\n",
        "        except tarfile.TarError as e:\n",
        "            print(f\"Error reading the tar file: {e}\")\n",
        "        finally:\n",
        "            # Clean up the temporary file\n",
        "            os.remove(tar_file_path)\n",
        "\n",
        "# Example usage\n",
        "version_navigate = 'v4'  #@param {type:\"string\"}\n",
        "tar_file = 'UP000005640_9606_HUMAN_v4.tar' #@param {type:\"string\"}\n",
        "file_fragment_names = 'Q8WZ42-F1, Q8WZ42-F2' #@param {type:\"string\"}\n",
        "extract_specific_file_from_ftp(folder_navigate, tar_file, file_fragment_names)"
      ],
      "metadata": {
        "id": "N72ad08Xwrok",
        "colab": {
          "base_uri": "https://localhost:8080/",
          "height": 52
        },
        "outputId": "652e810b-6833-43ff-9313-e82a6c04470b",
        "cellView": "form"
      },
      "execution_count": 40,
      "outputs": [
        {
          "output_type": "stream",
          "name": "stdout",
          "text": [
            "Extracted and saved AF-Q8WZ42-F1-model_v4.cif.gz as AF-Q8WZ42-F1-model_v4.cif.gz.\n"
          ]
        },
        {
          "output_type": "display_data",
          "data": {
            "text/plain": [
              "<IPython.core.display.Javascript object>"
            ],
            "application/javascript": [
              "\n",
              "    async function download(id, filename, size) {\n",
              "      if (!google.colab.kernel.accessAllowed) {\n",
              "        return;\n",
              "      }\n",
              "      const div = document.createElement('div');\n",
              "      const label = document.createElement('label');\n",
              "      label.textContent = `Downloading \"${filename}\": `;\n",
              "      div.appendChild(label);\n",
              "      const progress = document.createElement('progress');\n",
              "      progress.max = size;\n",
              "      div.appendChild(progress);\n",
              "      document.body.appendChild(div);\n",
              "\n",
              "      const buffers = [];\n",
              "      let downloaded = 0;\n",
              "\n",
              "      const channel = await google.colab.kernel.comms.open(id);\n",
              "      // Send a message to notify the kernel that we're ready.\n",
              "      channel.send({})\n",
              "\n",
              "      for await (const message of channel.messages) {\n",
              "        // Send a message to notify the kernel that we're ready.\n",
              "        channel.send({})\n",
              "        if (message.buffers) {\n",
              "          for (const buffer of message.buffers) {\n",
              "            buffers.push(buffer);\n",
              "            downloaded += buffer.byteLength;\n",
              "            progress.value = downloaded;\n",
              "          }\n",
              "        }\n",
              "      }\n",
              "      const blob = new Blob(buffers, {type: 'application/binary'});\n",
              "      const a = document.createElement('a');\n",
              "      a.href = window.URL.createObjectURL(blob);\n",
              "      a.download = filename;\n",
              "      div.appendChild(a);\n",
              "      a.click();\n",
              "      div.remove();\n",
              "    }\n",
              "  "
            ]
          },
          "metadata": {}
        },
        {
          "output_type": "display_data",
          "data": {
            "text/plain": [
              "<IPython.core.display.Javascript object>"
            ],
            "application/javascript": [
              "download(\"download_52a9134b-6ba8-4d25-95fb-70c9f135b69f\", \"AF-Q8WZ42-F1-model_v4.cif.gz\", 268976)"
            ]
          },
          "metadata": {}
        },
        {
          "output_type": "stream",
          "name": "stdout",
          "text": [
            "Extracted and saved AF-Q8WZ42-F2-model_v4.cif.gz as AF-Q8WZ42-F2-model_v4.cif.gz.\n"
          ]
        },
        {
          "output_type": "display_data",
          "data": {
            "text/plain": [
              "<IPython.core.display.Javascript object>"
            ],
            "application/javascript": [
              "\n",
              "    async function download(id, filename, size) {\n",
              "      if (!google.colab.kernel.accessAllowed) {\n",
              "        return;\n",
              "      }\n",
              "      const div = document.createElement('div');\n",
              "      const label = document.createElement('label');\n",
              "      label.textContent = `Downloading \"${filename}\": `;\n",
              "      div.appendChild(label);\n",
              "      const progress = document.createElement('progress');\n",
              "      progress.max = size;\n",
              "      div.appendChild(progress);\n",
              "      document.body.appendChild(div);\n",
              "\n",
              "      const buffers = [];\n",
              "      let downloaded = 0;\n",
              "\n",
              "      const channel = await google.colab.kernel.comms.open(id);\n",
              "      // Send a message to notify the kernel that we're ready.\n",
              "      channel.send({})\n",
              "\n",
              "      for await (const message of channel.messages) {\n",
              "        // Send a message to notify the kernel that we're ready.\n",
              "        channel.send({})\n",
              "        if (message.buffers) {\n",
              "          for (const buffer of message.buffers) {\n",
              "            buffers.push(buffer);\n",
              "            downloaded += buffer.byteLength;\n",
              "            progress.value = downloaded;\n",
              "          }\n",
              "        }\n",
              "      }\n",
              "      const blob = new Blob(buffers, {type: 'application/binary'});\n",
              "      const a = document.createElement('a');\n",
              "      a.href = window.URL.createObjectURL(blob);\n",
              "      a.download = filename;\n",
              "      div.appendChild(a);\n",
              "      a.click();\n",
              "      div.remove();\n",
              "    }\n",
              "  "
            ]
          },
          "metadata": {}
        },
        {
          "output_type": "display_data",
          "data": {
            "text/plain": [
              "<IPython.core.display.Javascript object>"
            ],
            "application/javascript": [
              "download(\"download_be29a9d5-1e8b-4ea6-8eca-2694cf4d1676\", \"AF-Q8WZ42-F2-model_v4.cif.gz\", 269760)"
            ]
          },
          "metadata": {}
        }
      ]
    }
  ]
}