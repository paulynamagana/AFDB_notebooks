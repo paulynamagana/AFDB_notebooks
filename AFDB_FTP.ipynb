{
  "nbformat": 4,
  "nbformat_minor": 0,
  "metadata": {
    "colab": {
      "provenance": [],
      "include_colab_link": true
    },
    "kernelspec": {
      "name": "python3",
      "display_name": "Python 3"
    },
    "language_info": {
      "name": "python"
    }
  },
  "cells": [
    {
      "cell_type": "markdown",
      "metadata": {
        "id": "view-in-github",
        "colab_type": "text"
      },
      "source": [
        "<a href=\"https://colab.research.google.com/github/paulynamagana/AFDB_notebooks/blob/main/AFDB_FTP.ipynb\" target=\"_parent\"><img src=\"https://colab.research.google.com/assets/colab-badge.svg\" alt=\"Open In Colab\"/></a>"
      ]
    },
    {
      "cell_type": "markdown",
      "source": [
        "\n",
        "<img src = \"https://www.embl.org/about/info/communications/wp-content/uploads/2017/09/Ebi_official_logo.png\"\n",
        " height=\"100\" align=\"right\">\n",
        "\n",
        "# Access structures from AlphaFold DB via FTP\n",
        "\n",
        "FTP, or File Transfer Protocol, is a standard network protocol facilitating the exchange of files between computers.\n",
        "\n",
        "\n",
        "\n",
        "<br>\n",
        "\n",
        "As of September 2023, the EMBL-EBI’s FTP area hosts TAR files for proteomes of 48 organisms, including model organisms and WHO pathogens of interest.\n",
        "\n",
        "We document every data version update in our [CHANGELOG](https://ftp.ebi.ac.uk/pub/databases/alphafold/CHANGELOG.txt).\n",
        "\n",
        "\n",
        "<br>\n",
        "\n",
        "The folders are named following a structured convention, comprising three distinct elements separated by underscores:\n",
        "\n",
        "- Reference Proteome (UPID): UP000000429\n",
        "- Taxonomy ID: 85962\n",
        "- Organism: HELPY (derived from the first three characters of the genus, \"Helicobacter,\" and the first two characters of the species, \"pylori\").\n",
        "\n",
        "<br>\n",
        "\n",
        "In order to understand the folders, visit the [Downloads tab](https://alphafold.ebi.ac.uk/download)\n",
        "\n",
        "You can also find the compressed files for Swiss-Prot which contains 542,378 predicted structures:\n",
        "\n",
        "|File type|File name|Size|\n",
        "|---------|--------------|---------------------|\n",
        "|Swiss-Prot (CIF Files)|swissprot_cif_v4.tar| 37,643 MB|\n",
        "|Swiss-Prot (PDB files)|swissprot_pdb_v4.tar|26,935 MB|\n",
        "\n",
        "\n"
      ],
      "metadata": {
        "id": "LDa23wtBDv5w"
      }
    },
    {
      "cell_type": "code",
      "execution_count": 16,
      "metadata": {
        "id": "bZnvx4lyvZIj",
        "outputId": "fef3b6f0-a8d3-4634-95ac-56242fb41b19",
        "colab": {
          "base_uri": "https://localhost:8080/"
        },
        "cellView": "form"
      },
      "outputs": [
        {
          "output_type": "stream",
          "name": "stdout",
          "text": [
            "CHANGELOG.txt\n",
            "README.txt\n",
            "accession_ids.csv\n",
            "download_metadata.json\n",
            "latest\n",
            "sequences.fasta\n",
            "v1\n",
            "v2\n",
            "v3\n",
            "v4\n"
          ]
        }
      ],
      "source": [
        "#@title #Run to see what's in the FTP area\n",
        "#@markdown Run this block to see what's in the FTP area\n",
        "import ftplib\n",
        "import io\n",
        "import json\n",
        "from ftplib import FTP\n",
        "import tarfile\n",
        "import tempfile\n",
        "import os\n",
        "from google.colab import files\n",
        "\n",
        "ftp_server = ftplib.FTP(\"ftp.ebi.ac.uk\")\n",
        "\n",
        "# Login as an anonymous user\n",
        "ftp_server.login(\"anonymous\", \"anonymous@\")\n",
        "\n",
        "# Navigate to the directory\n",
        "ftp_server.cwd(\"/pub/databases/alphafold/\")\n",
        "\n",
        "# List the contents of the directory\n",
        "# Retrieve and print the list of file names in the directory\n",
        "file_names = ftp_server.nlst()\n",
        "for file_name in file_names:\n",
        "    print(file_name)"
      ]
    },
    {
      "cell_type": "code",
      "source": [
        "#@title #See all the available proteomes in one version\n",
        "#@markdown This block will retrieve a list of the files inside the version archive you define\n",
        "\n",
        "folder_navigate = \"v4\" #@param {type:\"string\"}\n",
        "#@markdown `folder_navigate` is the version of the AFDB that you want to use to download\n",
        "\n",
        "#@title Navigate to the \"v4\" directory\n",
        "ftp_server.cwd(folder_navigate)\n",
        "\n",
        "# Retrieve and print the list of file names in the directory\n",
        "file_names = ftp_server.nlst()\n",
        "for file_name in file_names:\n",
        "    print(file_name)"
      ],
      "metadata": {
        "colab": {
          "base_uri": "https://localhost:8080/"
        },
        "id": "OSaz9_sLwrhN",
        "outputId": "fdd690b6-4cc8-4d86-948e-e863f7a980a5",
        "cellView": "form"
      },
      "execution_count": 17,
      "outputs": [
        {
          "output_type": "stream",
          "name": "stdout",
          "text": [
            "UP000000429_85962_HELPY_v4.tar\n",
            "UP000000437_7955_DANRE_v4.tar\n",
            "UP000000535_242231_NEIG1_v4.tar\n",
            "UP000000559_237561_CANAL_v4.tar\n",
            "UP000000579_71421_HAEIN_v4.tar\n",
            "UP000000586_171101_STRR6_v4.tar\n",
            "UP000000589_10090_MOUSE_v4.tar\n",
            "UP000000625_83333_ECOLI_v4.tar\n",
            "UP000000799_192222_CAMJE_v4.tar\n",
            "UP000000803_7227_DROME_v4.tar\n",
            "UP000000805_243232_METJA_v4.tar\n",
            "UP000000806_272631_MYCLE_v4.tar\n",
            "UP000001014_99287_SALTY_v4.tar\n",
            "UP000001450_36329_PLAF7_v4.tar\n",
            "UP000001584_83332_MYCTU_v4.tar\n",
            "UP000001631_447093_AJECG_v4.tar\n",
            "UP000001940_6239_CAEEL_v4.tar\n",
            "UP000002059_502779_PARBA_v4.tar\n",
            "UP000002195_44689_DICDI_v4.tar\n",
            "UP000002296_353153_TRYCC_v4.tar\n",
            "UP000002311_559292_YEAST_v4.tar\n",
            "UP000002438_208964_PSEAE_v4.tar\n",
            "UP000002485_284812_SCHPO_v4.tar\n",
            "UP000002494_10116_RAT_v4.tar\n",
            "UP000002716_300267_SHIDS_v4.tar\n",
            "UP000005640_9606_HUMAN_v4.tar\n",
            "UP000006304_1133849_9NOCA1_v4.tar\n",
            "UP000006548_3702_ARATH_v4.tar\n",
            "UP000006672_6279_BRUMA_v4.tar\n",
            "UP000007305_4577_MAIZE_v4.tar\n",
            "UP000007841_1125630_KLEPH_v4.tar\n",
            "UP000008153_5671_LEIIN_v4.tar\n",
            "UP000008524_185431_TRYB2_v4.tar\n",
            "UP000008816_93061_STAA8_v4.tar\n",
            "UP000008827_3847_SOYBN_v4.tar\n",
            "UP000008854_6183_SCHMA_v4.tar\n",
            "UP000018087_1391915_SPOS1_v4.tar\n",
            "UP000020681_1299332_MYCUL_v4.tar\n",
            "UP000024404_6282_ONCVO_v4.tar\n",
            "UP000030665_36087_TRITR_v4.tar\n",
            "UP000035681_6248_STRER_v4.tar\n",
            "UP000053029_1442368_9EURO2_v4.tar\n",
            "UP000059680_39947_ORYSJ_v4.tar\n",
            "UP000078237_100816_9PEZI1_v4.tar\n",
            "UP000094526_86049_9EURO1_v4.tar\n",
            "UP000270924_6293_WUCBA_v4.tar\n",
            "UP000274756_318479_DRAME_v4.tar\n",
            "UP000325664_1352_ENTFC_v4.tar\n",
            "mane_overlap_v4.tar\n",
            "swissprot_cif_v4.tar\n",
            "swissprot_pdb_v4.tar\n",
            "updated_entries\n",
            "v4_updated_accessions.txt\n"
          ]
        }
      ]
    },
    {
      "cell_type": "code",
      "source": [
        "#@title #Get the metadata\n",
        "#@markdown This block will retrieve the metadata and print it, you can see the tar file, the specie, common name and metadata accompanying this.\n",
        "\n",
        "# FTP server details\n",
        "ftp_server = \"ftp.ebi.ac.uk\"\n",
        "\n",
        "try:\n",
        "    with ftplib.FTP(ftp_server) as ftp:\n",
        "        print(\"Accessing metadata...\")\n",
        "        ftp.login(user=\"anonymous\", passwd=\"anonymous\")\n",
        "        ftp.cwd(\"/pub/databases/alphafold\")  # Navigate to the directory containing the metadata file\n",
        "\n",
        "        with io.BytesIO() as bio:\n",
        "            # Attempt to download the metadata file\n",
        "            ftp.retrbinary('RETR download_metadata.json', bio.write)\n",
        "            bio.seek(0)  # Go to the start of the BytesIO buffer\n",
        "            metadata = json.load(bio)\n",
        "\n",
        "    # Assuming metadata is a list of dictionaries, similar to the sample above\n",
        "    if metadata:\n",
        "        # Print the headers\n",
        "        headers = metadata[0].keys()\n",
        "        print(\"\\t\".join(headers))\n",
        "\n",
        "        # Print the values for each record\n",
        "        for record in metadata:\n",
        "            values = [str(record[key]) for key in headers]\n",
        "            print(\"\\t\".join(values))\n",
        "    else:\n",
        "        print(\"No metadata found.\")\n",
        "\n",
        "except Exception as e:\n",
        "    print(f\"Failed to fetch metadata: {e}\")\n"
      ],
      "metadata": {
        "cellView": "form",
        "id": "hie6E6PUx9di",
        "outputId": "bb8a5076-217e-4f89-b91b-03503e9036ea",
        "colab": {
          "base_uri": "https://localhost:8080/"
        }
      },
      "execution_count": 18,
      "outputs": [
        {
          "output_type": "stream",
          "name": "stdout",
          "text": [
            "Accessing metadata...\n",
            "archive_name\tspecies\tcommon_name\tlatin_common_name\treference_proteome\tnum_predicted_structures\tsize_bytes\ttype\n",
            "UP000006548_3702_ARATH_v4.tar\tArabidopsis thaliana\tArabidopsis\tTrue\tUP000006548\t27434\t3899039232\tproteome\n",
            "UP000001940_6239_CAEEL_v4.tar\tCaenorhabditis elegans\tNematode worm\tFalse\tUP000001940\t19694\t2783952896\tproteome\n",
            "UP000000559_237561_CANAL_v4.tar\tCandida albicans\tC. albicans\tTrue\tUP000000559\t5974\t1031859200\tproteome\n",
            "UP000000437_7955_DANRE_v4.tar\tDanio rerio\tZebrafish\tFalse\tUP000000437\t24664\t4428440576\tproteome\n",
            "UP000002195_44689_DICDI_v4.tar\tDictyostelium discoideum\tDictyostelium\tTrue\tUP000002195\t12622\t2298806272\tproteome\n",
            "UP000000803_7227_DROME_v4.tar\tDrosophila melanogaster\tFruit fly\tFalse\tUP000000803\t13458\t2324951552\tproteome\n",
            "UP000000625_83333_ECOLI_v4.tar\tEscherichia coli\tE. coli\tTrue\tUP000000625\t4363\t480047104\tproteome\n",
            "UP000008827_3847_SOYBN_v4.tar\tGlycine max\tSoybean\tFalse\tUP000008827\t55799\t7647127552\tproteome\n",
            "UP000005640_9606_HUMAN_v4.tar\tHomo sapiens\tHuman\tFalse\tUP000005640\t23391\t5113649152\tproteome\n",
            "UP000000805_243232_METJA_v4.tar\tMethanocaldococcus jannaschii\tM. jannaschii\tTrue\tUP000000805\t1773\t182347264\tproteome\n",
            "UP000000589_10090_MOUSE_v4.tar\tMus musculus\tMouse\tFalse\tUP000000589\t21615\t3794122752\tproteome\n",
            "UP000059680_39947_ORYSJ_v4.tar\tOryza sativa\tAsian rice\tFalse\tUP000059680\t43649\t4734573568\tproteome\n",
            "UP000002494_10116_RAT_v4.tar\tRattus norvegicus\tRat\tFalse\tUP000002494\t21270\t3641124352\tproteome\n",
            "UP000002311_559292_YEAST_v4.tar\tSaccharomyces cerevisiae\tBudding yeast\tFalse\tUP000002311\t6039\t1025904640\tproteome\n",
            "UP000002485_284812_SCHPO_v4.tar\tSchizosaccharomyces pombe\tFission yeast\tFalse\tUP000002485\t5128\t829703680\tproteome\n",
            "UP000007305_4577_MAIZE_v4.tar\tZea mays\tMaize\tFalse\tUP000007305\t39299\t5369882624\tproteome\n",
            "UP000001631_447093_AJECG_v4.tar\tAjellomyces capsulatus\tAjellomyces capsulatus\tFalse\tUP000001631\t9199\t1431689728\tglobal_health\n",
            "UP000006672_6279_BRUMA_v4.tar\tBrugia malayi\tBrugia malayi\tFalse\tUP000006672\t8743\t1350024192\tglobal_health\n",
            "UP000000799_192222_CAMJE_v4.tar\tCampylobacter jejuni\tC. jejuni\tTrue\tUP000000799\t1620\t183460864\tglobal_health\n",
            "UP000094526_86049_9EURO1_v4.tar\tCladophialophora carrionii\tCladophialophora carrionii\tFalse\tUP000094526\t11170\t1817676288\tglobal_health\n",
            "UP000274756_318479_DRAME_v4.tar\tDracunculus medinensis\tDracunculus medinensis\tFalse\tUP000274756\t10834\t1432301568\tglobal_health\n",
            "UP000325664_1352_ENTFC_v4.tar\tEnterococcus faecium\tEnterococcus faecium\tFalse\tUP000325664\t2823\t302123520\tglobal_health\n",
            "UP000053029_1442368_9EURO2_v4.tar\tFonsecaea pedrosoi\tFonsecaea pedrosoi\tFalse\tUP000053029\t12509\t2117997568\tglobal_health\n",
            "UP000000579_71421_HAEIN_v4.tar\tHaemophilus influenzae\tH. influenzae\tTrue\tUP000000579\t1662\t183609856\tglobal_health\n",
            "UP000000429_85962_HELPY_v4.tar\tHelicobacter pylori\tH. pylori\tTrue\tUP000000429\t1538\t174073856\tglobal_health\n",
            "UP000007841_1125630_KLEPH_v4.tar\tKlebsiella pneumoniae\tK. pneumoniae\tTrue\tUP000007841\t5727\t587852800\tglobal_health\n",
            "UP000008153_5671_LEIIN_v4.tar\tLeishmania infantum\tL. infantum\tTrue\tUP000008153\t7924\t1583663104\tglobal_health\n",
            "UP000078237_100816_9PEZI1_v4.tar\tMadurella mycetomatis\tMadurella mycetomatis\tFalse\tUP000078237\t9561\t1615114752\tglobal_health\n",
            "UP000000806_272631_MYCLE_v4.tar\tMycobacterium leprae\tMycobacterium leprae\tFalse\tUP000000806\t1602\t185519104\tglobal_health\n",
            "UP000001584_83332_MYCTU_v4.tar\tMycobacterium tuberculosis\tM. tuberculosis\tTrue\tUP000001584\t3988\t450958848\tglobal_health\n",
            "UP000020681_1299332_MYCUL_v4.tar\tMycobacterium ulcerans\tMycobacterium ulcerans\tFalse\tUP000020681\t9033\t611544576\tglobal_health\n",
            "UP000000535_242231_NEIG1_v4.tar\tNeisseria gonorrhoeae\tN. gonorrhoeae\tTrue\tUP000000535\t2106\t205083136\tglobal_health\n",
            "UP000006304_1133849_9NOCA1_v4.tar\tNocardia brasiliensis\tNocardia brasiliensis\tFalse\tUP000006304\t8372\t916178944\tglobal_health\n",
            "UP000024404_6282_ONCVO_v4.tar\tOnchocerca volvulus\tOnchocerca volvulus\tFalse\tUP000024404\t12047\t1702771200\tglobal_health\n",
            "UP000002059_502779_PARBA_v4.tar\tParacoccidioides lutzii\tParacoccidioides lutzii\tFalse\tUP000002059\t8794\t1360043520\tglobal_health\n",
            "UP000001450_36329_PLAF7_v4.tar\tPlasmodium falciparum\tP. falciparum\tTrue\tUP000001450\t5187\t1207890432\tglobal_health\n",
            "UP000002438_208964_PSEAE_v4.tar\tPseudomonas aeruginosa\tP. aeruginosa\tTrue\tUP000002438\t5556\t644754944\tglobal_health\n",
            "UP000001014_99287_SALTY_v4.tar\tSalmonella typhimurium\tS. typhimurium\tTrue\tUP000001014\t4526\t502157824\tglobal_health\n",
            "UP000008854_6183_SCHMA_v4.tar\tSchistosoma mansoni\tSchistosoma mansoni\tFalse\tUP000008854\t13865\t2672114176\tglobal_health\n",
            "UP000002716_300267_SHIDS_v4.tar\tShigella dysenteriae\tS. dysenteriae\tTrue\tUP000002716\t3893\t392489984\tglobal_health\n",
            "UP000018087_1391915_SPOS1_v4.tar\tSporothrix schenckii\tSporothrix schenckii\tFalse\tUP000018087\t8652\t1596615168\tglobal_health\n",
            "UP000008816_93061_STAA8_v4.tar\tStaphylococcus aureus\tS. aureus\tTrue\tUP000008816\t2888\t287480320\tglobal_health\n",
            "UP000000586_171101_STRR6_v4.tar\tStreptococcus pneumoniae\tS. pneumoniae\tTrue\tUP000000586\t2030\t212448768\tglobal_health\n",
            "UP000035681_6248_STRER_v4.tar\tStrongyloides stercoralis\tStrongyloides stercoralis\tFalse\tUP000035681\t12613\t1989327360\tglobal_health\n",
            "UP000030665_36087_TRITR_v4.tar\tTrichuris trichiura\tTrichuris trichiura\tFalse\tUP000030665\t9564\t1430846976\tglobal_health\n",
            "UP000008524_185431_TRYB2_v4.tar\tTrypanosoma brucei\tTrypanosoma brucei\tFalse\tUP000008524\t8491\t1412982272\tglobal_health\n",
            "UP000002296_353153_TRYCC_v4.tar\tTrypanosoma cruzi\tT. cruzi\tTrue\tUP000002296\t19036\t3108430848\tglobal_health\n",
            "UP000270924_6293_WUCBA_v4.tar\tWuchereria bancrofti\tWuchereria bancrofti\tFalse\tUP000270924\t12721\t1488762880\tglobal_health\n",
            "Failed to fetch metadata: 'species'\n"
          ]
        }
      ]
    },
    {
      "cell_type": "code",
      "source": [
        "#@title #Extract all fragments for a UniProt accession\n",
        "#@markdown This block will download all the fragments for a specific UniProt accession <br>\n",
        "#@markdown <strong>NOTE:</strong>  You will get a pop-up window to download files to your local computer\n",
        "\n",
        "\n",
        "def extract_files_from_ftp(folder_navigate, tar_file, file_fragment_names):\n",
        "    username = 'anonymous'\n",
        "    password = 'anonymous'\n",
        "    ftp_server = \"ftp.ebi.ac.uk\"\n",
        "    base_path = f'pub/databases/alphafold/{folder_navigate}/'\n",
        "    file_path = base_path + tar_file\n",
        "\n",
        "    if isinstance(file_fragment_names, str):\n",
        "        file_fragment_names = [file_fragment_names]\n",
        "\n",
        "    # Connect to the FTP server\n",
        "    with FTP(ftp_server) as ftp:\n",
        "        ftp.login(username, password)\n",
        "\n",
        "        # Use a temporary file to store the tar file\n",
        "        with tempfile.NamedTemporaryFile(delete=False) as tmp_file:\n",
        "            try:\n",
        "                ftp.retrbinary(f'RETR {file_path}', tmp_file.write)\n",
        "                tar_file_path = tmp_file.name\n",
        "            except Exception as e:\n",
        "                print(f\"Error downloading the file: {e}\")\n",
        "                return\n",
        "\n",
        "        # Open the temporary tar file for reading\n",
        "        try:\n",
        "            with tarfile.open(tar_file_path, mode=\"r:*\") as tar:\n",
        "                # Search through the entire tar file for all matches and check filename contains any of the file fragments and has a .cif extension\n",
        "                for member in tar.getmembers():\n",
        "                    if any(file_fragment_name in member.name for file_fragment_name in file_fragment_names) and member.name.endswith('.cif.gz'):\n",
        "                        extracted_file = tar.extractfile(member)\n",
        "                        if extracted_file:\n",
        "                            content = extracted_file.read()\n",
        "                            output_filename = f\"{member.name.replace('/', '_')}\"\n",
        "                            with open(output_filename, 'wb') as f_out:\n",
        "                                f_out.write(content)\n",
        "                            print(f\"Extracted and saved {member.name} as {output_filename}.\")\n",
        "                            files.download(output_filename) # Download the file to the local system\n",
        "        except tarfile.TarError as e:\n",
        "            print(f\"Error reading the tar file: {e}\")\n",
        "        finally:\n",
        "            # Clean up the temporary file\n",
        "            os.remove(tar_file_path)\n",
        "\n",
        "database_version = 'v4' #@param {type:\"string\"}\n",
        "tar_file = 'UP000005640_9606_HUMAN_v4.tar' #@param {type:\"string\"}\n",
        "#@markdown Make sure this file coincides with the database version you're searching in. i.e. end of tar file should say `v4`  if you're searching in the `version 4` within the database\n",
        "UniProt_accession = 'Q5T4S7'  #@param {type:\"string\"}\n",
        "extract_files_from_ftp(database_version, tar_file, UniProt_accession)\n"
      ],
      "metadata": {
        "id": "N72ad08Xwrok",
        "colab": {
          "base_uri": "https://localhost:8080/",
          "height": 364
        },
        "outputId": "a8db5a5b-bc51-468d-a31b-d20b2a09e099",
        "cellView": "form"
      },
      "execution_count": 19,
      "outputs": [
        {
          "output_type": "stream",
          "name": "stdout",
          "text": [
            "Extracted and saved AF-Q5T4S7-F1-model_v4.cif.gz as AF-Q5T4S7-F1-model_v4.cif.gz.\n"
          ]
        },
        {
          "output_type": "display_data",
          "data": {
            "text/plain": [
              "<IPython.core.display.Javascript object>"
            ],
            "application/javascript": [
              "\n",
              "    async function download(id, filename, size) {\n",
              "      if (!google.colab.kernel.accessAllowed) {\n",
              "        return;\n",
              "      }\n",
              "      const div = document.createElement('div');\n",
              "      const label = document.createElement('label');\n",
              "      label.textContent = `Downloading \"${filename}\": `;\n",
              "      div.appendChild(label);\n",
              "      const progress = document.createElement('progress');\n",
              "      progress.max = size;\n",
              "      div.appendChild(progress);\n",
              "      document.body.appendChild(div);\n",
              "\n",
              "      const buffers = [];\n",
              "      let downloaded = 0;\n",
              "\n",
              "      const channel = await google.colab.kernel.comms.open(id);\n",
              "      // Send a message to notify the kernel that we're ready.\n",
              "      channel.send({})\n",
              "\n",
              "      for await (const message of channel.messages) {\n",
              "        // Send a message to notify the kernel that we're ready.\n",
              "        channel.send({})\n",
              "        if (message.buffers) {\n",
              "          for (const buffer of message.buffers) {\n",
              "            buffers.push(buffer);\n",
              "            downloaded += buffer.byteLength;\n",
              "            progress.value = downloaded;\n",
              "          }\n",
              "        }\n",
              "      }\n",
              "      const blob = new Blob(buffers, {type: 'application/binary'});\n",
              "      const a = document.createElement('a');\n",
              "      a.href = window.URL.createObjectURL(blob);\n",
              "      a.download = filename;\n",
              "      div.appendChild(a);\n",
              "      a.click();\n",
              "      div.remove();\n",
              "    }\n",
              "  "
            ]
          },
          "metadata": {}
        },
        {
          "output_type": "display_data",
          "data": {
            "text/plain": [
              "<IPython.core.display.Javascript object>"
            ],
            "application/javascript": [
              "download(\"download_9b132af3-7928-4958-b90f-53891c72c6c9\", \"AF-Q5T4S7-F1-model_v4.cif.gz\", 269437)"
            ]
          },
          "metadata": {}
        },
        {
          "output_type": "stream",
          "name": "stdout",
          "text": [
            "Extracted and saved AF-Q5T4S7-F10-model_v4.cif.gz as AF-Q5T4S7-F10-model_v4.cif.gz.\n"
          ]
        },
        {
          "output_type": "display_data",
          "data": {
            "text/plain": [
              "<IPython.core.display.Javascript object>"
            ],
            "application/javascript": [
              "\n",
              "    async function download(id, filename, size) {\n",
              "      if (!google.colab.kernel.accessAllowed) {\n",
              "        return;\n",
              "      }\n",
              "      const div = document.createElement('div');\n",
              "      const label = document.createElement('label');\n",
              "      label.textContent = `Downloading \"${filename}\": `;\n",
              "      div.appendChild(label);\n",
              "      const progress = document.createElement('progress');\n",
              "      progress.max = size;\n",
              "      div.appendChild(progress);\n",
              "      document.body.appendChild(div);\n",
              "\n",
              "      const buffers = [];\n",
              "      let downloaded = 0;\n",
              "\n",
              "      const channel = await google.colab.kernel.comms.open(id);\n",
              "      // Send a message to notify the kernel that we're ready.\n",
              "      channel.send({})\n",
              "\n",
              "      for await (const message of channel.messages) {\n",
              "        // Send a message to notify the kernel that we're ready.\n",
              "        channel.send({})\n",
              "        if (message.buffers) {\n",
              "          for (const buffer of message.buffers) {\n",
              "            buffers.push(buffer);\n",
              "            downloaded += buffer.byteLength;\n",
              "            progress.value = downloaded;\n",
              "          }\n",
              "        }\n",
              "      }\n",
              "      const blob = new Blob(buffers, {type: 'application/binary'});\n",
              "      const a = document.createElement('a');\n",
              "      a.href = window.URL.createObjectURL(blob);\n",
              "      a.download = filename;\n",
              "      div.appendChild(a);\n",
              "      a.click();\n",
              "      div.remove();\n",
              "    }\n",
              "  "
            ]
          },
          "metadata": {}
        },
        {
          "output_type": "display_data",
          "data": {
            "text/plain": [
              "<IPython.core.display.Javascript object>"
            ],
            "application/javascript": [
              "download(\"download_97973a8c-22a8-437e-a732-bccc34f8c90a\", \"AF-Q5T4S7-F10-model_v4.cif.gz\", 267617)"
            ]
          },
          "metadata": {}
        },
        {
          "output_type": "stream",
          "name": "stdout",
          "text": [
            "Extracted and saved AF-Q5T4S7-F11-model_v4.cif.gz as AF-Q5T4S7-F11-model_v4.cif.gz.\n"
          ]
        },
        {
          "output_type": "display_data",
          "data": {
            "text/plain": [
              "<IPython.core.display.Javascript object>"
            ],
            "application/javascript": [
              "\n",
              "    async function download(id, filename, size) {\n",
              "      if (!google.colab.kernel.accessAllowed) {\n",
              "        return;\n",
              "      }\n",
              "      const div = document.createElement('div');\n",
              "      const label = document.createElement('label');\n",
              "      label.textContent = `Downloading \"${filename}\": `;\n",
              "      div.appendChild(label);\n",
              "      const progress = document.createElement('progress');\n",
              "      progress.max = size;\n",
              "      div.appendChild(progress);\n",
              "      document.body.appendChild(div);\n",
              "\n",
              "      const buffers = [];\n",
              "      let downloaded = 0;\n",
              "\n",
              "      const channel = await google.colab.kernel.comms.open(id);\n",
              "      // Send a message to notify the kernel that we're ready.\n",
              "      channel.send({})\n",
              "\n",
              "      for await (const message of channel.messages) {\n",
              "        // Send a message to notify the kernel that we're ready.\n",
              "        channel.send({})\n",
              "        if (message.buffers) {\n",
              "          for (const buffer of message.buffers) {\n",
              "            buffers.push(buffer);\n",
              "            downloaded += buffer.byteLength;\n",
              "            progress.value = downloaded;\n",
              "          }\n",
              "        }\n",
              "      }\n",
              "      const blob = new Blob(buffers, {type: 'application/binary'});\n",
              "      const a = document.createElement('a');\n",
              "      a.href = window.URL.createObjectURL(blob);\n",
              "      a.download = filename;\n",
              "      div.appendChild(a);\n",
              "      a.click();\n",
              "      div.remove();\n",
              "    }\n",
              "  "
            ]
          },
          "metadata": {}
        },
        {
          "output_type": "display_data",
          "data": {
            "text/plain": [
              "<IPython.core.display.Javascript object>"
            ],
            "application/javascript": [
              "download(\"download_fdbd7a37-d8a6-4dca-abd1-e10f5b41a35b\", \"AF-Q5T4S7-F11-model_v4.cif.gz\", 266687)"
            ]
          },
          "metadata": {}
        },
        {
          "output_type": "stream",
          "name": "stdout",
          "text": [
            "Extracted and saved AF-Q5T4S7-F12-model_v4.cif.gz as AF-Q5T4S7-F12-model_v4.cif.gz.\n"
          ]
        },
        {
          "output_type": "display_data",
          "data": {
            "text/plain": [
              "<IPython.core.display.Javascript object>"
            ],
            "application/javascript": [
              "\n",
              "    async function download(id, filename, size) {\n",
              "      if (!google.colab.kernel.accessAllowed) {\n",
              "        return;\n",
              "      }\n",
              "      const div = document.createElement('div');\n",
              "      const label = document.createElement('label');\n",
              "      label.textContent = `Downloading \"${filename}\": `;\n",
              "      div.appendChild(label);\n",
              "      const progress = document.createElement('progress');\n",
              "      progress.max = size;\n",
              "      div.appendChild(progress);\n",
              "      document.body.appendChild(div);\n",
              "\n",
              "      const buffers = [];\n",
              "      let downloaded = 0;\n",
              "\n",
              "      const channel = await google.colab.kernel.comms.open(id);\n",
              "      // Send a message to notify the kernel that we're ready.\n",
              "      channel.send({})\n",
              "\n",
              "      for await (const message of channel.messages) {\n",
              "        // Send a message to notify the kernel that we're ready.\n",
              "        channel.send({})\n",
              "        if (message.buffers) {\n",
              "          for (const buffer of message.buffers) {\n",
              "            buffers.push(buffer);\n",
              "            downloaded += buffer.byteLength;\n",
              "            progress.value = downloaded;\n",
              "          }\n",
              "        }\n",
              "      }\n",
              "      const blob = new Blob(buffers, {type: 'application/binary'});\n",
              "      const a = document.createElement('a');\n",
              "      a.href = window.URL.createObjectURL(blob);\n",
              "      a.download = filename;\n",
              "      div.appendChild(a);\n",
              "      a.click();\n",
              "      div.remove();\n",
              "    }\n",
              "  "
            ]
          },
          "metadata": {}
        },
        {
          "output_type": "display_data",
          "data": {
            "text/plain": [
              "<IPython.core.display.Javascript object>"
            ],
            "application/javascript": [
              "download(\"download_d60cf61e-1bff-4222-a287-7bd66efd6d81\", \"AF-Q5T4S7-F12-model_v4.cif.gz\", 268252)"
            ]
          },
          "metadata": {}
        },
        {
          "output_type": "stream",
          "name": "stdout",
          "text": [
            "Extracted and saved AF-Q5T4S7-F13-model_v4.cif.gz as AF-Q5T4S7-F13-model_v4.cif.gz.\n"
          ]
        },
        {
          "output_type": "display_data",
          "data": {
            "text/plain": [
              "<IPython.core.display.Javascript object>"
            ],
            "application/javascript": [
              "\n",
              "    async function download(id, filename, size) {\n",
              "      if (!google.colab.kernel.accessAllowed) {\n",
              "        return;\n",
              "      }\n",
              "      const div = document.createElement('div');\n",
              "      const label = document.createElement('label');\n",
              "      label.textContent = `Downloading \"${filename}\": `;\n",
              "      div.appendChild(label);\n",
              "      const progress = document.createElement('progress');\n",
              "      progress.max = size;\n",
              "      div.appendChild(progress);\n",
              "      document.body.appendChild(div);\n",
              "\n",
              "      const buffers = [];\n",
              "      let downloaded = 0;\n",
              "\n",
              "      const channel = await google.colab.kernel.comms.open(id);\n",
              "      // Send a message to notify the kernel that we're ready.\n",
              "      channel.send({})\n",
              "\n",
              "      for await (const message of channel.messages) {\n",
              "        // Send a message to notify the kernel that we're ready.\n",
              "        channel.send({})\n",
              "        if (message.buffers) {\n",
              "          for (const buffer of message.buffers) {\n",
              "            buffers.push(buffer);\n",
              "            downloaded += buffer.byteLength;\n",
              "            progress.value = downloaded;\n",
              "          }\n",
              "        }\n",
              "      }\n",
              "      const blob = new Blob(buffers, {type: 'application/binary'});\n",
              "      const a = document.createElement('a');\n",
              "      a.href = window.URL.createObjectURL(blob);\n",
              "      a.download = filename;\n",
              "      div.appendChild(a);\n",
              "      a.click();\n",
              "      div.remove();\n",
              "    }\n",
              "  "
            ]
          },
          "metadata": {}
        },
        {
          "output_type": "display_data",
          "data": {
            "text/plain": [
              "<IPython.core.display.Javascript object>"
            ],
            "application/javascript": [
              "download(\"download_4e0d80fa-e7ba-44b7-a5c6-be608c540490\", \"AF-Q5T4S7-F13-model_v4.cif.gz\", 267709)"
            ]
          },
          "metadata": {}
        },
        {
          "output_type": "stream",
          "name": "stdout",
          "text": [
            "Extracted and saved AF-Q5T4S7-F14-model_v4.cif.gz as AF-Q5T4S7-F14-model_v4.cif.gz.\n"
          ]
        },
        {
          "output_type": "display_data",
          "data": {
            "text/plain": [
              "<IPython.core.display.Javascript object>"
            ],
            "application/javascript": [
              "\n",
              "    async function download(id, filename, size) {\n",
              "      if (!google.colab.kernel.accessAllowed) {\n",
              "        return;\n",
              "      }\n",
              "      const div = document.createElement('div');\n",
              "      const label = document.createElement('label');\n",
              "      label.textContent = `Downloading \"${filename}\": `;\n",
              "      div.appendChild(label);\n",
              "      const progress = document.createElement('progress');\n",
              "      progress.max = size;\n",
              "      div.appendChild(progress);\n",
              "      document.body.appendChild(div);\n",
              "\n",
              "      const buffers = [];\n",
              "      let downloaded = 0;\n",
              "\n",
              "      const channel = await google.colab.kernel.comms.open(id);\n",
              "      // Send a message to notify the kernel that we're ready.\n",
              "      channel.send({})\n",
              "\n",
              "      for await (const message of channel.messages) {\n",
              "        // Send a message to notify the kernel that we're ready.\n",
              "        channel.send({})\n",
              "        if (message.buffers) {\n",
              "          for (const buffer of message.buffers) {\n",
              "            buffers.push(buffer);\n",
              "            downloaded += buffer.byteLength;\n",
              "            progress.value = downloaded;\n",
              "          }\n",
              "        }\n",
              "      }\n",
              "      const blob = new Blob(buffers, {type: 'application/binary'});\n",
              "      const a = document.createElement('a');\n",
              "      a.href = window.URL.createObjectURL(blob);\n",
              "      a.download = filename;\n",
              "      div.appendChild(a);\n",
              "      a.click();\n",
              "      div.remove();\n",
              "    }\n",
              "  "
            ]
          },
          "metadata": {}
        },
        {
          "output_type": "display_data",
          "data": {
            "text/plain": [
              "<IPython.core.display.Javascript object>"
            ],
            "application/javascript": [
              "download(\"download_62a51e70-562c-4a05-a31e-4fbc3d2e7f34\", \"AF-Q5T4S7-F14-model_v4.cif.gz\", 269027)"
            ]
          },
          "metadata": {}
        },
        {
          "output_type": "stream",
          "name": "stdout",
          "text": [
            "Extracted and saved AF-Q5T4S7-F15-model_v4.cif.gz as AF-Q5T4S7-F15-model_v4.cif.gz.\n"
          ]
        },
        {
          "output_type": "display_data",
          "data": {
            "text/plain": [
              "<IPython.core.display.Javascript object>"
            ],
            "application/javascript": [
              "\n",
              "    async function download(id, filename, size) {\n",
              "      if (!google.colab.kernel.accessAllowed) {\n",
              "        return;\n",
              "      }\n",
              "      const div = document.createElement('div');\n",
              "      const label = document.createElement('label');\n",
              "      label.textContent = `Downloading \"${filename}\": `;\n",
              "      div.appendChild(label);\n",
              "      const progress = document.createElement('progress');\n",
              "      progress.max = size;\n",
              "      div.appendChild(progress);\n",
              "      document.body.appendChild(div);\n",
              "\n",
              "      const buffers = [];\n",
              "      let downloaded = 0;\n",
              "\n",
              "      const channel = await google.colab.kernel.comms.open(id);\n",
              "      // Send a message to notify the kernel that we're ready.\n",
              "      channel.send({})\n",
              "\n",
              "      for await (const message of channel.messages) {\n",
              "        // Send a message to notify the kernel that we're ready.\n",
              "        channel.send({})\n",
              "        if (message.buffers) {\n",
              "          for (const buffer of message.buffers) {\n",
              "            buffers.push(buffer);\n",
              "            downloaded += buffer.byteLength;\n",
              "            progress.value = downloaded;\n",
              "          }\n",
              "        }\n",
              "      }\n",
              "      const blob = new Blob(buffers, {type: 'application/binary'});\n",
              "      const a = document.createElement('a');\n",
              "      a.href = window.URL.createObjectURL(blob);\n",
              "      a.download = filename;\n",
              "      div.appendChild(a);\n",
              "      a.click();\n",
              "      div.remove();\n",
              "    }\n",
              "  "
            ]
          },
          "metadata": {}
        },
        {
          "output_type": "display_data",
          "data": {
            "text/plain": [
              "<IPython.core.display.Javascript object>"
            ],
            "application/javascript": [
              "download(\"download_3767c244-e04a-4596-9e06-0bf915bc51b9\", \"AF-Q5T4S7-F15-model_v4.cif.gz\", 269785)"
            ]
          },
          "metadata": {}
        },
        {
          "output_type": "stream",
          "name": "stdout",
          "text": [
            "Extracted and saved AF-Q5T4S7-F16-model_v4.cif.gz as AF-Q5T4S7-F16-model_v4.cif.gz.\n"
          ]
        },
        {
          "output_type": "display_data",
          "data": {
            "text/plain": [
              "<IPython.core.display.Javascript object>"
            ],
            "application/javascript": [
              "\n",
              "    async function download(id, filename, size) {\n",
              "      if (!google.colab.kernel.accessAllowed) {\n",
              "        return;\n",
              "      }\n",
              "      const div = document.createElement('div');\n",
              "      const label = document.createElement('label');\n",
              "      label.textContent = `Downloading \"${filename}\": `;\n",
              "      div.appendChild(label);\n",
              "      const progress = document.createElement('progress');\n",
              "      progress.max = size;\n",
              "      div.appendChild(progress);\n",
              "      document.body.appendChild(div);\n",
              "\n",
              "      const buffers = [];\n",
              "      let downloaded = 0;\n",
              "\n",
              "      const channel = await google.colab.kernel.comms.open(id);\n",
              "      // Send a message to notify the kernel that we're ready.\n",
              "      channel.send({})\n",
              "\n",
              "      for await (const message of channel.messages) {\n",
              "        // Send a message to notify the kernel that we're ready.\n",
              "        channel.send({})\n",
              "        if (message.buffers) {\n",
              "          for (const buffer of message.buffers) {\n",
              "            buffers.push(buffer);\n",
              "            downloaded += buffer.byteLength;\n",
              "            progress.value = downloaded;\n",
              "          }\n",
              "        }\n",
              "      }\n",
              "      const blob = new Blob(buffers, {type: 'application/binary'});\n",
              "      const a = document.createElement('a');\n",
              "      a.href = window.URL.createObjectURL(blob);\n",
              "      a.download = filename;\n",
              "      div.appendChild(a);\n",
              "      a.click();\n",
              "      div.remove();\n",
              "    }\n",
              "  "
            ]
          },
          "metadata": {}
        },
        {
          "output_type": "display_data",
          "data": {
            "text/plain": [
              "<IPython.core.display.Javascript object>"
            ],
            "application/javascript": [
              "download(\"download_a65d913d-3f21-41f7-815d-f0fa00a3c0ea\", \"AF-Q5T4S7-F16-model_v4.cif.gz\", 273863)"
            ]
          },
          "metadata": {}
        },
        {
          "output_type": "stream",
          "name": "stdout",
          "text": [
            "Extracted and saved AF-Q5T4S7-F17-model_v4.cif.gz as AF-Q5T4S7-F17-model_v4.cif.gz.\n"
          ]
        },
        {
          "output_type": "display_data",
          "data": {
            "text/plain": [
              "<IPython.core.display.Javascript object>"
            ],
            "application/javascript": [
              "\n",
              "    async function download(id, filename, size) {\n",
              "      if (!google.colab.kernel.accessAllowed) {\n",
              "        return;\n",
              "      }\n",
              "      const div = document.createElement('div');\n",
              "      const label = document.createElement('label');\n",
              "      label.textContent = `Downloading \"${filename}\": `;\n",
              "      div.appendChild(label);\n",
              "      const progress = document.createElement('progress');\n",
              "      progress.max = size;\n",
              "      div.appendChild(progress);\n",
              "      document.body.appendChild(div);\n",
              "\n",
              "      const buffers = [];\n",
              "      let downloaded = 0;\n",
              "\n",
              "      const channel = await google.colab.kernel.comms.open(id);\n",
              "      // Send a message to notify the kernel that we're ready.\n",
              "      channel.send({})\n",
              "\n",
              "      for await (const message of channel.messages) {\n",
              "        // Send a message to notify the kernel that we're ready.\n",
              "        channel.send({})\n",
              "        if (message.buffers) {\n",
              "          for (const buffer of message.buffers) {\n",
              "            buffers.push(buffer);\n",
              "            downloaded += buffer.byteLength;\n",
              "            progress.value = downloaded;\n",
              "          }\n",
              "        }\n",
              "      }\n",
              "      const blob = new Blob(buffers, {type: 'application/binary'});\n",
              "      const a = document.createElement('a');\n",
              "      a.href = window.URL.createObjectURL(blob);\n",
              "      a.download = filename;\n",
              "      div.appendChild(a);\n",
              "      a.click();\n",
              "      div.remove();\n",
              "    }\n",
              "  "
            ]
          },
          "metadata": {}
        },
        {
          "output_type": "display_data",
          "data": {
            "text/plain": [
              "<IPython.core.display.Javascript object>"
            ],
            "application/javascript": [
              "download(\"download_f2a73338-dfe3-449c-b6d8-bcf0bf02fb9d\", \"AF-Q5T4S7-F17-model_v4.cif.gz\", 274211)"
            ]
          },
          "metadata": {}
        },
        {
          "output_type": "stream",
          "name": "stdout",
          "text": [
            "Extracted and saved AF-Q5T4S7-F18-model_v4.cif.gz as AF-Q5T4S7-F18-model_v4.cif.gz.\n"
          ]
        },
        {
          "output_type": "display_data",
          "data": {
            "text/plain": [
              "<IPython.core.display.Javascript object>"
            ],
            "application/javascript": [
              "\n",
              "    async function download(id, filename, size) {\n",
              "      if (!google.colab.kernel.accessAllowed) {\n",
              "        return;\n",
              "      }\n",
              "      const div = document.createElement('div');\n",
              "      const label = document.createElement('label');\n",
              "      label.textContent = `Downloading \"${filename}\": `;\n",
              "      div.appendChild(label);\n",
              "      const progress = document.createElement('progress');\n",
              "      progress.max = size;\n",
              "      div.appendChild(progress);\n",
              "      document.body.appendChild(div);\n",
              "\n",
              "      const buffers = [];\n",
              "      let downloaded = 0;\n",
              "\n",
              "      const channel = await google.colab.kernel.comms.open(id);\n",
              "      // Send a message to notify the kernel that we're ready.\n",
              "      channel.send({})\n",
              "\n",
              "      for await (const message of channel.messages) {\n",
              "        // Send a message to notify the kernel that we're ready.\n",
              "        channel.send({})\n",
              "        if (message.buffers) {\n",
              "          for (const buffer of message.buffers) {\n",
              "            buffers.push(buffer);\n",
              "            downloaded += buffer.byteLength;\n",
              "            progress.value = downloaded;\n",
              "          }\n",
              "        }\n",
              "      }\n",
              "      const blob = new Blob(buffers, {type: 'application/binary'});\n",
              "      const a = document.createElement('a');\n",
              "      a.href = window.URL.createObjectURL(blob);\n",
              "      a.download = filename;\n",
              "      div.appendChild(a);\n",
              "      a.click();\n",
              "      div.remove();\n",
              "    }\n",
              "  "
            ]
          },
          "metadata": {}
        },
        {
          "output_type": "display_data",
          "data": {
            "text/plain": [
              "<IPython.core.display.Javascript object>"
            ],
            "application/javascript": [
              "download(\"download_44f46595-44fe-4a24-a5be-13d483b4875f\", \"AF-Q5T4S7-F18-model_v4.cif.gz\", 275833)"
            ]
          },
          "metadata": {}
        },
        {
          "output_type": "stream",
          "name": "stdout",
          "text": [
            "Extracted and saved AF-Q5T4S7-F19-model_v4.cif.gz as AF-Q5T4S7-F19-model_v4.cif.gz.\n"
          ]
        },
        {
          "output_type": "display_data",
          "data": {
            "text/plain": [
              "<IPython.core.display.Javascript object>"
            ],
            "application/javascript": [
              "\n",
              "    async function download(id, filename, size) {\n",
              "      if (!google.colab.kernel.accessAllowed) {\n",
              "        return;\n",
              "      }\n",
              "      const div = document.createElement('div');\n",
              "      const label = document.createElement('label');\n",
              "      label.textContent = `Downloading \"${filename}\": `;\n",
              "      div.appendChild(label);\n",
              "      const progress = document.createElement('progress');\n",
              "      progress.max = size;\n",
              "      div.appendChild(progress);\n",
              "      document.body.appendChild(div);\n",
              "\n",
              "      const buffers = [];\n",
              "      let downloaded = 0;\n",
              "\n",
              "      const channel = await google.colab.kernel.comms.open(id);\n",
              "      // Send a message to notify the kernel that we're ready.\n",
              "      channel.send({})\n",
              "\n",
              "      for await (const message of channel.messages) {\n",
              "        // Send a message to notify the kernel that we're ready.\n",
              "        channel.send({})\n",
              "        if (message.buffers) {\n",
              "          for (const buffer of message.buffers) {\n",
              "            buffers.push(buffer);\n",
              "            downloaded += buffer.byteLength;\n",
              "            progress.value = downloaded;\n",
              "          }\n",
              "        }\n",
              "      }\n",
              "      const blob = new Blob(buffers, {type: 'application/binary'});\n",
              "      const a = document.createElement('a');\n",
              "      a.href = window.URL.createObjectURL(blob);\n",
              "      a.download = filename;\n",
              "      div.appendChild(a);\n",
              "      a.click();\n",
              "      div.remove();\n",
              "    }\n",
              "  "
            ]
          },
          "metadata": {}
        },
        {
          "output_type": "display_data",
          "data": {
            "text/plain": [
              "<IPython.core.display.Javascript object>"
            ],
            "application/javascript": [
              "download(\"download_59440761-be11-49e4-bf5a-4966836e8889\", \"AF-Q5T4S7-F19-model_v4.cif.gz\", 274892)"
            ]
          },
          "metadata": {}
        },
        {
          "output_type": "stream",
          "name": "stdout",
          "text": [
            "Extracted and saved AF-Q5T4S7-F2-model_v4.cif.gz as AF-Q5T4S7-F2-model_v4.cif.gz.\n"
          ]
        },
        {
          "output_type": "display_data",
          "data": {
            "text/plain": [
              "<IPython.core.display.Javascript object>"
            ],
            "application/javascript": [
              "\n",
              "    async function download(id, filename, size) {\n",
              "      if (!google.colab.kernel.accessAllowed) {\n",
              "        return;\n",
              "      }\n",
              "      const div = document.createElement('div');\n",
              "      const label = document.createElement('label');\n",
              "      label.textContent = `Downloading \"${filename}\": `;\n",
              "      div.appendChild(label);\n",
              "      const progress = document.createElement('progress');\n",
              "      progress.max = size;\n",
              "      div.appendChild(progress);\n",
              "      document.body.appendChild(div);\n",
              "\n",
              "      const buffers = [];\n",
              "      let downloaded = 0;\n",
              "\n",
              "      const channel = await google.colab.kernel.comms.open(id);\n",
              "      // Send a message to notify the kernel that we're ready.\n",
              "      channel.send({})\n",
              "\n",
              "      for await (const message of channel.messages) {\n",
              "        // Send a message to notify the kernel that we're ready.\n",
              "        channel.send({})\n",
              "        if (message.buffers) {\n",
              "          for (const buffer of message.buffers) {\n",
              "            buffers.push(buffer);\n",
              "            downloaded += buffer.byteLength;\n",
              "            progress.value = downloaded;\n",
              "          }\n",
              "        }\n",
              "      }\n",
              "      const blob = new Blob(buffers, {type: 'application/binary'});\n",
              "      const a = document.createElement('a');\n",
              "      a.href = window.URL.createObjectURL(blob);\n",
              "      a.download = filename;\n",
              "      div.appendChild(a);\n",
              "      a.click();\n",
              "      div.remove();\n",
              "    }\n",
              "  "
            ]
          },
          "metadata": {}
        },
        {
          "output_type": "display_data",
          "data": {
            "text/plain": [
              "<IPython.core.display.Javascript object>"
            ],
            "application/javascript": [
              "download(\"download_518d4882-7d17-4e32-8cf6-2ef137e9d822\", \"AF-Q5T4S7-F2-model_v4.cif.gz\", 270383)"
            ]
          },
          "metadata": {}
        },
        {
          "output_type": "stream",
          "name": "stdout",
          "text": [
            "Extracted and saved AF-Q5T4S7-F20-model_v4.cif.gz as AF-Q5T4S7-F20-model_v4.cif.gz.\n"
          ]
        },
        {
          "output_type": "display_data",
          "data": {
            "text/plain": [
              "<IPython.core.display.Javascript object>"
            ],
            "application/javascript": [
              "\n",
              "    async function download(id, filename, size) {\n",
              "      if (!google.colab.kernel.accessAllowed) {\n",
              "        return;\n",
              "      }\n",
              "      const div = document.createElement('div');\n",
              "      const label = document.createElement('label');\n",
              "      label.textContent = `Downloading \"${filename}\": `;\n",
              "      div.appendChild(label);\n",
              "      const progress = document.createElement('progress');\n",
              "      progress.max = size;\n",
              "      div.appendChild(progress);\n",
              "      document.body.appendChild(div);\n",
              "\n",
              "      const buffers = [];\n",
              "      let downloaded = 0;\n",
              "\n",
              "      const channel = await google.colab.kernel.comms.open(id);\n",
              "      // Send a message to notify the kernel that we're ready.\n",
              "      channel.send({})\n",
              "\n",
              "      for await (const message of channel.messages) {\n",
              "        // Send a message to notify the kernel that we're ready.\n",
              "        channel.send({})\n",
              "        if (message.buffers) {\n",
              "          for (const buffer of message.buffers) {\n",
              "            buffers.push(buffer);\n",
              "            downloaded += buffer.byteLength;\n",
              "            progress.value = downloaded;\n",
              "          }\n",
              "        }\n",
              "      }\n",
              "      const blob = new Blob(buffers, {type: 'application/binary'});\n",
              "      const a = document.createElement('a');\n",
              "      a.href = window.URL.createObjectURL(blob);\n",
              "      a.download = filename;\n",
              "      div.appendChild(a);\n",
              "      a.click();\n",
              "      div.remove();\n",
              "    }\n",
              "  "
            ]
          },
          "metadata": {}
        },
        {
          "output_type": "display_data",
          "data": {
            "text/plain": [
              "<IPython.core.display.Javascript object>"
            ],
            "application/javascript": [
              "download(\"download_df4c5b22-d217-44cd-9507-3945512569e5\", \"AF-Q5T4S7-F20-model_v4.cif.gz\", 272147)"
            ]
          },
          "metadata": {}
        },
        {
          "output_type": "stream",
          "name": "stdout",
          "text": [
            "Extracted and saved AF-Q5T4S7-F3-model_v4.cif.gz as AF-Q5T4S7-F3-model_v4.cif.gz.\n"
          ]
        },
        {
          "output_type": "display_data",
          "data": {
            "text/plain": [
              "<IPython.core.display.Javascript object>"
            ],
            "application/javascript": [
              "\n",
              "    async function download(id, filename, size) {\n",
              "      if (!google.colab.kernel.accessAllowed) {\n",
              "        return;\n",
              "      }\n",
              "      const div = document.createElement('div');\n",
              "      const label = document.createElement('label');\n",
              "      label.textContent = `Downloading \"${filename}\": `;\n",
              "      div.appendChild(label);\n",
              "      const progress = document.createElement('progress');\n",
              "      progress.max = size;\n",
              "      div.appendChild(progress);\n",
              "      document.body.appendChild(div);\n",
              "\n",
              "      const buffers = [];\n",
              "      let downloaded = 0;\n",
              "\n",
              "      const channel = await google.colab.kernel.comms.open(id);\n",
              "      // Send a message to notify the kernel that we're ready.\n",
              "      channel.send({})\n",
              "\n",
              "      for await (const message of channel.messages) {\n",
              "        // Send a message to notify the kernel that we're ready.\n",
              "        channel.send({})\n",
              "        if (message.buffers) {\n",
              "          for (const buffer of message.buffers) {\n",
              "            buffers.push(buffer);\n",
              "            downloaded += buffer.byteLength;\n",
              "            progress.value = downloaded;\n",
              "          }\n",
              "        }\n",
              "      }\n",
              "      const blob = new Blob(buffers, {type: 'application/binary'});\n",
              "      const a = document.createElement('a');\n",
              "      a.href = window.URL.createObjectURL(blob);\n",
              "      a.download = filename;\n",
              "      div.appendChild(a);\n",
              "      a.click();\n",
              "      div.remove();\n",
              "    }\n",
              "  "
            ]
          },
          "metadata": {}
        },
        {
          "output_type": "display_data",
          "data": {
            "text/plain": [
              "<IPython.core.display.Javascript object>"
            ],
            "application/javascript": [
              "download(\"download_fe8ddce5-bab3-4ff8-8bc3-a9084cd0935e\", \"AF-Q5T4S7-F3-model_v4.cif.gz\", 271289)"
            ]
          },
          "metadata": {}
        },
        {
          "output_type": "stream",
          "name": "stdout",
          "text": [
            "Extracted and saved AF-Q5T4S7-F4-model_v4.cif.gz as AF-Q5T4S7-F4-model_v4.cif.gz.\n"
          ]
        },
        {
          "output_type": "display_data",
          "data": {
            "text/plain": [
              "<IPython.core.display.Javascript object>"
            ],
            "application/javascript": [
              "\n",
              "    async function download(id, filename, size) {\n",
              "      if (!google.colab.kernel.accessAllowed) {\n",
              "        return;\n",
              "      }\n",
              "      const div = document.createElement('div');\n",
              "      const label = document.createElement('label');\n",
              "      label.textContent = `Downloading \"${filename}\": `;\n",
              "      div.appendChild(label);\n",
              "      const progress = document.createElement('progress');\n",
              "      progress.max = size;\n",
              "      div.appendChild(progress);\n",
              "      document.body.appendChild(div);\n",
              "\n",
              "      const buffers = [];\n",
              "      let downloaded = 0;\n",
              "\n",
              "      const channel = await google.colab.kernel.comms.open(id);\n",
              "      // Send a message to notify the kernel that we're ready.\n",
              "      channel.send({})\n",
              "\n",
              "      for await (const message of channel.messages) {\n",
              "        // Send a message to notify the kernel that we're ready.\n",
              "        channel.send({})\n",
              "        if (message.buffers) {\n",
              "          for (const buffer of message.buffers) {\n",
              "            buffers.push(buffer);\n",
              "            downloaded += buffer.byteLength;\n",
              "            progress.value = downloaded;\n",
              "          }\n",
              "        }\n",
              "      }\n",
              "      const blob = new Blob(buffers, {type: 'application/binary'});\n",
              "      const a = document.createElement('a');\n",
              "      a.href = window.URL.createObjectURL(blob);\n",
              "      a.download = filename;\n",
              "      div.appendChild(a);\n",
              "      a.click();\n",
              "      div.remove();\n",
              "    }\n",
              "  "
            ]
          },
          "metadata": {}
        },
        {
          "output_type": "display_data",
          "data": {
            "text/plain": [
              "<IPython.core.display.Javascript object>"
            ],
            "application/javascript": [
              "download(\"download_76da7f18-5e0d-425f-abf3-1080e0218d6a\", \"AF-Q5T4S7-F4-model_v4.cif.gz\", 271460)"
            ]
          },
          "metadata": {}
        },
        {
          "output_type": "stream",
          "name": "stdout",
          "text": [
            "Extracted and saved AF-Q5T4S7-F5-model_v4.cif.gz as AF-Q5T4S7-F5-model_v4.cif.gz.\n"
          ]
        },
        {
          "output_type": "display_data",
          "data": {
            "text/plain": [
              "<IPython.core.display.Javascript object>"
            ],
            "application/javascript": [
              "\n",
              "    async function download(id, filename, size) {\n",
              "      if (!google.colab.kernel.accessAllowed) {\n",
              "        return;\n",
              "      }\n",
              "      const div = document.createElement('div');\n",
              "      const label = document.createElement('label');\n",
              "      label.textContent = `Downloading \"${filename}\": `;\n",
              "      div.appendChild(label);\n",
              "      const progress = document.createElement('progress');\n",
              "      progress.max = size;\n",
              "      div.appendChild(progress);\n",
              "      document.body.appendChild(div);\n",
              "\n",
              "      const buffers = [];\n",
              "      let downloaded = 0;\n",
              "\n",
              "      const channel = await google.colab.kernel.comms.open(id);\n",
              "      // Send a message to notify the kernel that we're ready.\n",
              "      channel.send({})\n",
              "\n",
              "      for await (const message of channel.messages) {\n",
              "        // Send a message to notify the kernel that we're ready.\n",
              "        channel.send({})\n",
              "        if (message.buffers) {\n",
              "          for (const buffer of message.buffers) {\n",
              "            buffers.push(buffer);\n",
              "            downloaded += buffer.byteLength;\n",
              "            progress.value = downloaded;\n",
              "          }\n",
              "        }\n",
              "      }\n",
              "      const blob = new Blob(buffers, {type: 'application/binary'});\n",
              "      const a = document.createElement('a');\n",
              "      a.href = window.URL.createObjectURL(blob);\n",
              "      a.download = filename;\n",
              "      div.appendChild(a);\n",
              "      a.click();\n",
              "      div.remove();\n",
              "    }\n",
              "  "
            ]
          },
          "metadata": {}
        },
        {
          "output_type": "display_data",
          "data": {
            "text/plain": [
              "<IPython.core.display.Javascript object>"
            ],
            "application/javascript": [
              "download(\"download_ba91c1c9-5780-43e3-945e-5650ab3e42f4\", \"AF-Q5T4S7-F5-model_v4.cif.gz\", 271430)"
            ]
          },
          "metadata": {}
        },
        {
          "output_type": "stream",
          "name": "stdout",
          "text": [
            "Extracted and saved AF-Q5T4S7-F6-model_v4.cif.gz as AF-Q5T4S7-F6-model_v4.cif.gz.\n"
          ]
        },
        {
          "output_type": "display_data",
          "data": {
            "text/plain": [
              "<IPython.core.display.Javascript object>"
            ],
            "application/javascript": [
              "\n",
              "    async function download(id, filename, size) {\n",
              "      if (!google.colab.kernel.accessAllowed) {\n",
              "        return;\n",
              "      }\n",
              "      const div = document.createElement('div');\n",
              "      const label = document.createElement('label');\n",
              "      label.textContent = `Downloading \"${filename}\": `;\n",
              "      div.appendChild(label);\n",
              "      const progress = document.createElement('progress');\n",
              "      progress.max = size;\n",
              "      div.appendChild(progress);\n",
              "      document.body.appendChild(div);\n",
              "\n",
              "      const buffers = [];\n",
              "      let downloaded = 0;\n",
              "\n",
              "      const channel = await google.colab.kernel.comms.open(id);\n",
              "      // Send a message to notify the kernel that we're ready.\n",
              "      channel.send({})\n",
              "\n",
              "      for await (const message of channel.messages) {\n",
              "        // Send a message to notify the kernel that we're ready.\n",
              "        channel.send({})\n",
              "        if (message.buffers) {\n",
              "          for (const buffer of message.buffers) {\n",
              "            buffers.push(buffer);\n",
              "            downloaded += buffer.byteLength;\n",
              "            progress.value = downloaded;\n",
              "          }\n",
              "        }\n",
              "      }\n",
              "      const blob = new Blob(buffers, {type: 'application/binary'});\n",
              "      const a = document.createElement('a');\n",
              "      a.href = window.URL.createObjectURL(blob);\n",
              "      a.download = filename;\n",
              "      div.appendChild(a);\n",
              "      a.click();\n",
              "      div.remove();\n",
              "    }\n",
              "  "
            ]
          },
          "metadata": {}
        },
        {
          "output_type": "display_data",
          "data": {
            "text/plain": [
              "<IPython.core.display.Javascript object>"
            ],
            "application/javascript": [
              "download(\"download_aa2a495b-2a82-4f8f-9fc7-0bfb1352b46f\", \"AF-Q5T4S7-F6-model_v4.cif.gz\", 271906)"
            ]
          },
          "metadata": {}
        },
        {
          "output_type": "stream",
          "name": "stdout",
          "text": [
            "Extracted and saved AF-Q5T4S7-F7-model_v4.cif.gz as AF-Q5T4S7-F7-model_v4.cif.gz.\n"
          ]
        },
        {
          "output_type": "display_data",
          "data": {
            "text/plain": [
              "<IPython.core.display.Javascript object>"
            ],
            "application/javascript": [
              "\n",
              "    async function download(id, filename, size) {\n",
              "      if (!google.colab.kernel.accessAllowed) {\n",
              "        return;\n",
              "      }\n",
              "      const div = document.createElement('div');\n",
              "      const label = document.createElement('label');\n",
              "      label.textContent = `Downloading \"${filename}\": `;\n",
              "      div.appendChild(label);\n",
              "      const progress = document.createElement('progress');\n",
              "      progress.max = size;\n",
              "      div.appendChild(progress);\n",
              "      document.body.appendChild(div);\n",
              "\n",
              "      const buffers = [];\n",
              "      let downloaded = 0;\n",
              "\n",
              "      const channel = await google.colab.kernel.comms.open(id);\n",
              "      // Send a message to notify the kernel that we're ready.\n",
              "      channel.send({})\n",
              "\n",
              "      for await (const message of channel.messages) {\n",
              "        // Send a message to notify the kernel that we're ready.\n",
              "        channel.send({})\n",
              "        if (message.buffers) {\n",
              "          for (const buffer of message.buffers) {\n",
              "            buffers.push(buffer);\n",
              "            downloaded += buffer.byteLength;\n",
              "            progress.value = downloaded;\n",
              "          }\n",
              "        }\n",
              "      }\n",
              "      const blob = new Blob(buffers, {type: 'application/binary'});\n",
              "      const a = document.createElement('a');\n",
              "      a.href = window.URL.createObjectURL(blob);\n",
              "      a.download = filename;\n",
              "      div.appendChild(a);\n",
              "      a.click();\n",
              "      div.remove();\n",
              "    }\n",
              "  "
            ]
          },
          "metadata": {}
        },
        {
          "output_type": "display_data",
          "data": {
            "text/plain": [
              "<IPython.core.display.Javascript object>"
            ],
            "application/javascript": [
              "download(\"download_ad42afa4-64d6-412c-a8b3-cd36a5676a57\", \"AF-Q5T4S7-F7-model_v4.cif.gz\", 269619)"
            ]
          },
          "metadata": {}
        },
        {
          "output_type": "stream",
          "name": "stdout",
          "text": [
            "Extracted and saved AF-Q5T4S7-F8-model_v4.cif.gz as AF-Q5T4S7-F8-model_v4.cif.gz.\n"
          ]
        },
        {
          "output_type": "display_data",
          "data": {
            "text/plain": [
              "<IPython.core.display.Javascript object>"
            ],
            "application/javascript": [
              "\n",
              "    async function download(id, filename, size) {\n",
              "      if (!google.colab.kernel.accessAllowed) {\n",
              "        return;\n",
              "      }\n",
              "      const div = document.createElement('div');\n",
              "      const label = document.createElement('label');\n",
              "      label.textContent = `Downloading \"${filename}\": `;\n",
              "      div.appendChild(label);\n",
              "      const progress = document.createElement('progress');\n",
              "      progress.max = size;\n",
              "      div.appendChild(progress);\n",
              "      document.body.appendChild(div);\n",
              "\n",
              "      const buffers = [];\n",
              "      let downloaded = 0;\n",
              "\n",
              "      const channel = await google.colab.kernel.comms.open(id);\n",
              "      // Send a message to notify the kernel that we're ready.\n",
              "      channel.send({})\n",
              "\n",
              "      for await (const message of channel.messages) {\n",
              "        // Send a message to notify the kernel that we're ready.\n",
              "        channel.send({})\n",
              "        if (message.buffers) {\n",
              "          for (const buffer of message.buffers) {\n",
              "            buffers.push(buffer);\n",
              "            downloaded += buffer.byteLength;\n",
              "            progress.value = downloaded;\n",
              "          }\n",
              "        }\n",
              "      }\n",
              "      const blob = new Blob(buffers, {type: 'application/binary'});\n",
              "      const a = document.createElement('a');\n",
              "      a.href = window.URL.createObjectURL(blob);\n",
              "      a.download = filename;\n",
              "      div.appendChild(a);\n",
              "      a.click();\n",
              "      div.remove();\n",
              "    }\n",
              "  "
            ]
          },
          "metadata": {}
        },
        {
          "output_type": "display_data",
          "data": {
            "text/plain": [
              "<IPython.core.display.Javascript object>"
            ],
            "application/javascript": [
              "download(\"download_8ff2df6b-dfc8-4edf-84a3-458dc78e473e\", \"AF-Q5T4S7-F8-model_v4.cif.gz\", 269792)"
            ]
          },
          "metadata": {}
        },
        {
          "output_type": "stream",
          "name": "stdout",
          "text": [
            "Extracted and saved AF-Q5T4S7-F9-model_v4.cif.gz as AF-Q5T4S7-F9-model_v4.cif.gz.\n"
          ]
        },
        {
          "output_type": "display_data",
          "data": {
            "text/plain": [
              "<IPython.core.display.Javascript object>"
            ],
            "application/javascript": [
              "\n",
              "    async function download(id, filename, size) {\n",
              "      if (!google.colab.kernel.accessAllowed) {\n",
              "        return;\n",
              "      }\n",
              "      const div = document.createElement('div');\n",
              "      const label = document.createElement('label');\n",
              "      label.textContent = `Downloading \"${filename}\": `;\n",
              "      div.appendChild(label);\n",
              "      const progress = document.createElement('progress');\n",
              "      progress.max = size;\n",
              "      div.appendChild(progress);\n",
              "      document.body.appendChild(div);\n",
              "\n",
              "      const buffers = [];\n",
              "      let downloaded = 0;\n",
              "\n",
              "      const channel = await google.colab.kernel.comms.open(id);\n",
              "      // Send a message to notify the kernel that we're ready.\n",
              "      channel.send({})\n",
              "\n",
              "      for await (const message of channel.messages) {\n",
              "        // Send a message to notify the kernel that we're ready.\n",
              "        channel.send({})\n",
              "        if (message.buffers) {\n",
              "          for (const buffer of message.buffers) {\n",
              "            buffers.push(buffer);\n",
              "            downloaded += buffer.byteLength;\n",
              "            progress.value = downloaded;\n",
              "          }\n",
              "        }\n",
              "      }\n",
              "      const blob = new Blob(buffers, {type: 'application/binary'});\n",
              "      const a = document.createElement('a');\n",
              "      a.href = window.URL.createObjectURL(blob);\n",
              "      a.download = filename;\n",
              "      div.appendChild(a);\n",
              "      a.click();\n",
              "      div.remove();\n",
              "    }\n",
              "  "
            ]
          },
          "metadata": {}
        },
        {
          "output_type": "display_data",
          "data": {
            "text/plain": [
              "<IPython.core.display.Javascript object>"
            ],
            "application/javascript": [
              "download(\"download_556eefd4-1668-462c-b0b6-a48fb026e454\", \"AF-Q5T4S7-F9-model_v4.cif.gz\", 266082)"
            ]
          },
          "metadata": {}
        }
      ]
    },
    {
      "cell_type": "code",
      "source": [
        "#@title #Extract all fragments for a UniProt accession\n",
        "#@markdown This block will download all the fragments for a specific UniProt accession <br>\n",
        "#@markdown <strong>NOTE:</strong>  You will get a pop-up window to download files to your local computer\n",
        "\n",
        "from ftplib import FTP\n",
        "import tarfile\n",
        "import tempfile\n",
        "import os\n",
        "import zipfile\n",
        "from google.colab import files\n",
        "\n",
        "def extract_files_and_zip_from_ftp(folder_navigate, tar_file, file_fragment_name, file_type):\n",
        "    username = 'anonymous'\n",
        "    password = 'anonymous'\n",
        "    ftp_server = \"ftp.ebi.ac.uk\"\n",
        "    base_path = f'pub/databases/alphafold/{folder_navigate}/'\n",
        "    file_path = base_path + tar_file\n",
        "    extracted_files = []  # To keep track of extracted file names\n",
        "\n",
        "    # Connect to the FTP server\n",
        "    with FTP(ftp_server) as ftp:\n",
        "        ftp.login(username, password)\n",
        "\n",
        "        # Use a temporary file to store the tar file\n",
        "        with tempfile.NamedTemporaryFile(delete=False) as tmp_file:\n",
        "            try:\n",
        "                ftp.retrbinary(f'RETR {file_path}', tmp_file.write)\n",
        "                tar_file_path = tmp_file.name\n",
        "            except Exception as e:\n",
        "                print(f\"Error downloading the file: {e}\")\n",
        "                return\n",
        "\n",
        "        # Open the temporary tar file for reading\n",
        "        try:\n",
        "            with tarfile.open(tar_file_path, mode=\"r:*\") as tar:\n",
        "                # Search through the entire tar file for all matches and check filename contains the file fragment and has a .cif extension\n",
        "                for member in tar.getmembers():\n",
        "                    if file_fragment_name in member.name and member.name.endswith(f'.{file_type.lower()}.gz'):\n",
        "                        extracted_file = tar.extractfile(member)\n",
        "                        if extracted_file:\n",
        "                            content = extracted_file.read()\n",
        "                            output_filename = f\"{member.name.replace('/', '_')}\"\n",
        "                            with open(output_filename, 'wb') as f_out:\n",
        "                                f_out.write(content)\n",
        "                            print(f\"Extracted and saved {member.name} as {output_filename}.\")\n",
        "                            extracted_files.append(output_filename)\n",
        "        except tarfile.TarError as e:\n",
        "            print(f\"Error reading the tar file: {e}\")\n",
        "        finally:\n",
        "            # Clean up the temporary file\n",
        "            os.remove(tar_file_path)\n",
        "\n",
        "    # Zip the extracted files\n",
        "    zip_filename = \"extracted_files.zip\"\n",
        "    with zipfile.ZipFile(zip_filename, 'w') as zipf:\n",
        "        for file in extracted_files:\n",
        "            zipf.write(file)\n",
        "            os.remove(file)  # Optional: remove the file after adding it to the zip to save space\n",
        "    print(f\"Created zip archive: {zip_filename}\")\n",
        "\n",
        "    # Download the zip file\n",
        "    files.download(zip_filename)\n",
        "\n",
        "\n",
        "#Input parameters\n",
        "database_version = 'v4' #@param {type:\"string\"}\n",
        "tar_file = 'UP000005640_9606_HUMAN_v4.tar' #@param {type:\"string\"}\n",
        "#@markdown Make sure this file coincides with the database version you're searching in. i.e. end of tar file should say `v4`  if you're searching in the `version 4` within the database\n",
        "UniProt_accession = 'Q5T4S7'  #@param {type:\"string\"}\n",
        "file_type = \"pdb\" #@param {type:\"string\"}\n",
        "#@markdown If you wish to download `cif` or `pdb` files, make sure it doesn't contain whitespaces\n",
        "\n",
        "\n",
        "extract_files_and_zip_from_ftp(database_version, tar_file, UniProt_accession, file_type)\n"
      ],
      "metadata": {
        "cellView": "form",
        "id": "2WQ9BEmwP7RK",
        "outputId": "03d35fff-c1aa-45d8-8dbb-5d5a98567e55",
        "colab": {
          "base_uri": "https://localhost:8080/",
          "height": 382
        }
      },
      "execution_count": 21,
      "outputs": [
        {
          "output_type": "stream",
          "name": "stdout",
          "text": [
            "Extracted and saved AF-Q5T4S7-F1-model_v4.pdb.gz as AF-Q5T4S7-F1-model_v4.pdb.gz.\n",
            "Extracted and saved AF-Q5T4S7-F10-model_v4.pdb.gz as AF-Q5T4S7-F10-model_v4.pdb.gz.\n",
            "Extracted and saved AF-Q5T4S7-F11-model_v4.pdb.gz as AF-Q5T4S7-F11-model_v4.pdb.gz.\n",
            "Extracted and saved AF-Q5T4S7-F12-model_v4.pdb.gz as AF-Q5T4S7-F12-model_v4.pdb.gz.\n",
            "Extracted and saved AF-Q5T4S7-F13-model_v4.pdb.gz as AF-Q5T4S7-F13-model_v4.pdb.gz.\n",
            "Extracted and saved AF-Q5T4S7-F14-model_v4.pdb.gz as AF-Q5T4S7-F14-model_v4.pdb.gz.\n",
            "Extracted and saved AF-Q5T4S7-F15-model_v4.pdb.gz as AF-Q5T4S7-F15-model_v4.pdb.gz.\n",
            "Extracted and saved AF-Q5T4S7-F16-model_v4.pdb.gz as AF-Q5T4S7-F16-model_v4.pdb.gz.\n",
            "Extracted and saved AF-Q5T4S7-F17-model_v4.pdb.gz as AF-Q5T4S7-F17-model_v4.pdb.gz.\n",
            "Extracted and saved AF-Q5T4S7-F18-model_v4.pdb.gz as AF-Q5T4S7-F18-model_v4.pdb.gz.\n",
            "Extracted and saved AF-Q5T4S7-F19-model_v4.pdb.gz as AF-Q5T4S7-F19-model_v4.pdb.gz.\n",
            "Extracted and saved AF-Q5T4S7-F2-model_v4.pdb.gz as AF-Q5T4S7-F2-model_v4.pdb.gz.\n",
            "Extracted and saved AF-Q5T4S7-F20-model_v4.pdb.gz as AF-Q5T4S7-F20-model_v4.pdb.gz.\n",
            "Extracted and saved AF-Q5T4S7-F3-model_v4.pdb.gz as AF-Q5T4S7-F3-model_v4.pdb.gz.\n",
            "Extracted and saved AF-Q5T4S7-F4-model_v4.pdb.gz as AF-Q5T4S7-F4-model_v4.pdb.gz.\n",
            "Extracted and saved AF-Q5T4S7-F5-model_v4.pdb.gz as AF-Q5T4S7-F5-model_v4.pdb.gz.\n",
            "Extracted and saved AF-Q5T4S7-F6-model_v4.pdb.gz as AF-Q5T4S7-F6-model_v4.pdb.gz.\n",
            "Extracted and saved AF-Q5T4S7-F7-model_v4.pdb.gz as AF-Q5T4S7-F7-model_v4.pdb.gz.\n",
            "Extracted and saved AF-Q5T4S7-F8-model_v4.pdb.gz as AF-Q5T4S7-F8-model_v4.pdb.gz.\n",
            "Extracted and saved AF-Q5T4S7-F9-model_v4.pdb.gz as AF-Q5T4S7-F9-model_v4.pdb.gz.\n",
            "Created zip archive: extracted_files.zip\n"
          ]
        },
        {
          "output_type": "display_data",
          "data": {
            "text/plain": [
              "<IPython.core.display.Javascript object>"
            ],
            "application/javascript": [
              "\n",
              "    async function download(id, filename, size) {\n",
              "      if (!google.colab.kernel.accessAllowed) {\n",
              "        return;\n",
              "      }\n",
              "      const div = document.createElement('div');\n",
              "      const label = document.createElement('label');\n",
              "      label.textContent = `Downloading \"${filename}\": `;\n",
              "      div.appendChild(label);\n",
              "      const progress = document.createElement('progress');\n",
              "      progress.max = size;\n",
              "      div.appendChild(progress);\n",
              "      document.body.appendChild(div);\n",
              "\n",
              "      const buffers = [];\n",
              "      let downloaded = 0;\n",
              "\n",
              "      const channel = await google.colab.kernel.comms.open(id);\n",
              "      // Send a message to notify the kernel that we're ready.\n",
              "      channel.send({})\n",
              "\n",
              "      for await (const message of channel.messages) {\n",
              "        // Send a message to notify the kernel that we're ready.\n",
              "        channel.send({})\n",
              "        if (message.buffers) {\n",
              "          for (const buffer of message.buffers) {\n",
              "            buffers.push(buffer);\n",
              "            downloaded += buffer.byteLength;\n",
              "            progress.value = downloaded;\n",
              "          }\n",
              "        }\n",
              "      }\n",
              "      const blob = new Blob(buffers, {type: 'application/binary'});\n",
              "      const a = document.createElement('a');\n",
              "      a.href = window.URL.createObjectURL(blob);\n",
              "      a.download = filename;\n",
              "      div.appendChild(a);\n",
              "      a.click();\n",
              "      div.remove();\n",
              "    }\n",
              "  "
            ]
          },
          "metadata": {}
        },
        {
          "output_type": "display_data",
          "data": {
            "text/plain": [
              "<IPython.core.display.Javascript object>"
            ],
            "application/javascript": [
              "download(\"download_659d7cc7-ee30-4af5-9006-10875d3a2e05\", \"extracted_files.zip\", 3952468)"
            ]
          },
          "metadata": {}
        }
      ]
    }
  ]
}