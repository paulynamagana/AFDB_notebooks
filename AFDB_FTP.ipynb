{
  "nbformat": 4,
  "nbformat_minor": 0,
  "metadata": {
    "colab": {
      "provenance": [],
      "authorship_tag": "ABX9TyP9nOiQEYwZM9zgKWW3gTRf",
      "include_colab_link": true
    },
    "kernelspec": {
      "name": "python3",
      "display_name": "Python 3"
    },
    "language_info": {
      "name": "python"
    }
  },
  "cells": [
    {
      "cell_type": "markdown",
      "metadata": {
        "id": "view-in-github",
        "colab_type": "text"
      },
      "source": [
        "<a href=\"https://colab.research.google.com/github/paulynamagana/AFDB_notebooks/blob/main/AFDB_FTP.ipynb\" target=\"_parent\"><img src=\"https://colab.research.google.com/assets/colab-badge.svg\" alt=\"Open In Colab\"/></a>"
      ]
    },
    {
      "cell_type": "markdown",
      "source": [
        "\n",
        "<img src = \"https://www.embl.org/about/info/communications/wp-content/uploads/2017/09/Ebi_official_logo.png\"\n",
        " height=\"100\" align=\"right\">\n",
        "\n",
        "# Access structures from AlphaFold DB via FTP\n",
        "\n",
        "FTP, or File Transfer Protocol, is a standard network protocol facilitating the exchange of files between computers.\n",
        "\n",
        "\n",
        "\n",
        "<br>\n",
        "\n",
        "As of September 2023, the EMBL-EBI’s FTP area hosts TAR files for proteomes of 48 organisms, including model organisms and WHO pathogens of interest.\n",
        "\n",
        "We document every data version update in our [CHANGELOG](https://ftp.ebi.ac.uk/pub/databases/alphafold/CHANGELOG.txt).\n",
        "\n",
        "\n",
        "<br>\n",
        "\n",
        "The folders are named following a structured convention, comprising three distinct elements separated by underscores:\n",
        "\n",
        "- Reference Proteome (UPID): UP000000429\n",
        "- Taxonomy ID: 85962\n",
        "- Organism: HELPY (derived from the first three characters of the genus, \"Helicobacter,\" and the first two characters of the species, \"pylori\").\n",
        "\n",
        "<br>\n",
        "\n",
        "In order to understand the folders, visit the [Downloads tab](https://alphafold.ebi.ac.uk/download)\n",
        "\n",
        "You can also find the compressed files for Swiss-Prot which contains 542,378 predicted structures:\n",
        "\n",
        "|File type|File name|Size|\n",
        "|---------|--------------|---------------------|\n",
        "|Swiss-Prot (CIF Files)|swissprot_cif_v4.tar| 37,643 MB|\n",
        "|Swiss-Prot (PDB files)|swissprot_pdb_v4.tar|26,935 MB|\n",
        "\n",
        "\n"
      ],
      "metadata": {
        "id": "LDa23wtBDv5w"
      }
    },
    {
      "cell_type": "code",
      "execution_count": null,
      "metadata": {
        "id": "bZnvx4lyvZIj",
        "outputId": "dd56bb08-1d97-4441-d566-defc694d6b4b",
        "colab": {
          "base_uri": "https://localhost:8080/",
          "height": 214
        }
      },
      "outputs": [
        {
          "output_type": "stream",
          "name": "stdout",
          "text": [
            "-rw-r--r--    1 ftp      ftp          3557 Oct 26  2022 CHANGELOG.txt\n",
            "-rw-r--r--    1 ftp      ftp          3044 Oct 26  2022 README.txt\n",
            "-rw-r--r--    1 ftp      ftp      7502502459 Oct 20  2022 accession_ids.csv\n",
            "-rw-r--r--    1 ftp      ftp         13342 Oct 26  2022 download_metadata.json\n",
            "lrwxrwxrwx    1 ftp      ftp             2 Oct 24  2022 latest -> v4\n",
            "-rw-r--r--    1 ftp      ftp      99265486907 Oct 20  2022 sequences.fasta\n",
            "drwxr-xr-x    2 ftp      ftp          1003 Oct 24  2022 v1\n",
            "drwxr-xr-x    2 ftp      ftp          2394 Oct 24  2022 v2\n",
            "drwxr-xr-x    2 ftp      ftp          2475 Oct 27  2022 v3\n",
            "drwxr-xr-x    3 ftp      ftp          2507 Oct 27  2022 v4\n"
          ]
        },
        {
          "output_type": "execute_result",
          "data": {
            "text/plain": [
              "'226 Directory send OK.'"
            ],
            "application/vnd.google.colaboratory.intrinsic+json": {
              "type": "string"
            }
          },
          "metadata": {},
          "execution_count": 16
        }
      ],
      "source": [
        "import ftplib\n",
        "\n",
        "ftp_server = ftplib.FTP(\"ftp.ebi.ac.uk\")\n",
        "\n",
        "# Login as an anonymous user\n",
        "ftp_server.login(\"anonymous\", \"anonymous@\")\n",
        "\n",
        "# Navigate to the directory\n",
        "ftp_server.cwd(\"/pub/databases/alphafold/\")\n",
        "\n",
        "# List the contents of the directory\n",
        "ftp_server.retrlines('LIST')"
      ]
    },
    {
      "cell_type": "code",
      "source": [
        "#@title Navigate to the \"v4\" directory\n",
        "ftp_server.cwd(\"v4\")\n",
        "# List the contents of the directory\n",
        "ftp_server.retrlines('LIST')"
      ],
      "metadata": {
        "colab": {
          "base_uri": "https://localhost:8080/",
          "height": 982
        },
        "id": "OSaz9_sLwrhN",
        "outputId": "e99f7602-007a-4c6d-de3e-eff3c82f3d87"
      },
      "execution_count": null,
      "outputs": [
        {
          "output_type": "stream",
          "name": "stdout",
          "text": [
            "-rw-r--r--    1 ftp      ftp      174073856 Oct 20  2022 UP000000429_85962_HELPY_v4.tar\n",
            "-rw-r--r--    1 ftp      ftp      4428440576 Oct 20  2022 UP000000437_7955_DANRE_v4.tar\n",
            "-rw-r--r--    1 ftp      ftp      205083136 Oct 20  2022 UP000000535_242231_NEIG1_v4.tar\n",
            "-rw-r--r--    1 ftp      ftp      1031859200 Oct 20  2022 UP000000559_237561_CANAL_v4.tar\n",
            "-rw-r--r--    1 ftp      ftp      183609856 Oct 20  2022 UP000000579_71421_HAEIN_v4.tar\n",
            "-rw-r--r--    1 ftp      ftp      212448768 Oct 20  2022 UP000000586_171101_STRR6_v4.tar\n",
            "-rw-r--r--    1 ftp      ftp      3794122752 Oct 20  2022 UP000000589_10090_MOUSE_v4.tar\n",
            "-rw-r--r--    1 ftp      ftp      480047104 Oct 20  2022 UP000000625_83333_ECOLI_v4.tar\n",
            "-rw-r--r--    1 ftp      ftp      183460864 Oct 20  2022 UP000000799_192222_CAMJE_v4.tar\n",
            "-rw-r--r--    1 ftp      ftp      2324951552 Oct 20  2022 UP000000803_7227_DROME_v4.tar\n",
            "-rw-r--r--    1 ftp      ftp      182347264 Oct 20  2022 UP000000805_243232_METJA_v4.tar\n",
            "-rw-r--r--    1 ftp      ftp      185519104 Oct 20  2022 UP000000806_272631_MYCLE_v4.tar\n",
            "-rw-r--r--    1 ftp      ftp      502157824 Oct 20  2022 UP000001014_99287_SALTY_v4.tar\n",
            "-rw-r--r--    1 ftp      ftp      1207890432 Oct 20  2022 UP000001450_36329_PLAF7_v4.tar\n",
            "-rw-r--r--    1 ftp      ftp      450958848 Oct 20  2022 UP000001584_83332_MYCTU_v4.tar\n",
            "-rw-r--r--    1 ftp      ftp      1431689728 Oct 20  2022 UP000001631_447093_AJECG_v4.tar\n",
            "-rw-r--r--    1 ftp      ftp      2783952896 Oct 20  2022 UP000001940_6239_CAEEL_v4.tar\n",
            "-rw-r--r--    1 ftp      ftp      1360043520 Oct 20  2022 UP000002059_502779_PARBA_v4.tar\n",
            "-rw-r--r--    1 ftp      ftp      2298806272 Oct 20  2022 UP000002195_44689_DICDI_v4.tar\n",
            "-rw-r--r--    1 ftp      ftp      3108430848 Oct 20  2022 UP000002296_353153_TRYCC_v4.tar\n",
            "-rw-r--r--    1 ftp      ftp      1025904640 Oct 20  2022 UP000002311_559292_YEAST_v4.tar\n",
            "-rw-r--r--    1 ftp      ftp      644754944 Oct 20  2022 UP000002438_208964_PSEAE_v4.tar\n",
            "-rw-r--r--    1 ftp      ftp      829703680 Oct 20  2022 UP000002485_284812_SCHPO_v4.tar\n",
            "-rw-r--r--    1 ftp      ftp      3641124352 Oct 20  2022 UP000002494_10116_RAT_v4.tar\n",
            "-rw-r--r--    1 ftp      ftp      392489984 Oct 20  2022 UP000002716_300267_SHIDS_v4.tar\n",
            "-rw-r--r--    1 ftp      ftp      5113649152 Oct 20  2022 UP000005640_9606_HUMAN_v4.tar\n",
            "-rw-r--r--    1 ftp      ftp      916178944 Oct 20  2022 UP000006304_1133849_9NOCA1_v4.tar\n",
            "-rw-r--r--    1 ftp      ftp      3899039232 Oct 20  2022 UP000006548_3702_ARATH_v4.tar\n",
            "-rw-r--r--    1 ftp      ftp      1350024192 Oct 20  2022 UP000006672_6279_BRUMA_v4.tar\n",
            "-rw-r--r--    1 ftp      ftp      5369882624 Oct 20  2022 UP000007305_4577_MAIZE_v4.tar\n",
            "-rw-r--r--    1 ftp      ftp      587852800 Oct 20  2022 UP000007841_1125630_KLEPH_v4.tar\n",
            "-rw-r--r--    1 ftp      ftp      1583663104 Oct 20  2022 UP000008153_5671_LEIIN_v4.tar\n",
            "-rw-r--r--    1 ftp      ftp      1412982272 Oct 20  2022 UP000008524_185431_TRYB2_v4.tar\n",
            "-rw-r--r--    1 ftp      ftp      287480320 Oct 20  2022 UP000008816_93061_STAA8_v4.tar\n",
            "-rw-r--r--    1 ftp      ftp      7647127552 Oct 20  2022 UP000008827_3847_SOYBN_v4.tar\n",
            "-rw-r--r--    1 ftp      ftp      2672114176 Oct 20  2022 UP000008854_6183_SCHMA_v4.tar\n",
            "-rw-r--r--    1 ftp      ftp      1596615168 Oct 20  2022 UP000018087_1391915_SPOS1_v4.tar\n",
            "-rw-r--r--    1 ftp      ftp      611544576 Oct 20  2022 UP000020681_1299332_MYCUL_v4.tar\n",
            "-rw-r--r--    1 ftp      ftp      1702771200 Oct 20  2022 UP000024404_6282_ONCVO_v4.tar\n",
            "-rw-r--r--    1 ftp      ftp      1430846976 Oct 20  2022 UP000030665_36087_TRITR_v4.tar\n",
            "-rw-r--r--    1 ftp      ftp      1989327360 Oct 20  2022 UP000035681_6248_STRER_v4.tar\n",
            "-rw-r--r--    1 ftp      ftp      2117997568 Oct 20  2022 UP000053029_1442368_9EURO2_v4.tar\n",
            "-rw-r--r--    1 ftp      ftp      4734573568 Oct 20  2022 UP000059680_39947_ORYSJ_v4.tar\n",
            "-rw-r--r--    1 ftp      ftp      1615114752 Oct 20  2022 UP000078237_100816_9PEZI1_v4.tar\n",
            "-rw-r--r--    1 ftp      ftp      1817676288 Oct 20  2022 UP000094526_86049_9EURO1_v4.tar\n",
            "-rw-r--r--    1 ftp      ftp      1488762880 Oct 20  2022 UP000270924_6293_WUCBA_v4.tar\n",
            "-rw-r--r--    1 ftp      ftp      1432301568 Oct 20  2022 UP000274756_318479_DRAME_v4.tar\n",
            "-rw-r--r--    1 ftp      ftp      302123520 Oct 20  2022 UP000325664_1352_ENTFC_v4.tar\n",
            "-rw-r--r--    1 ftp      ftp      3174813184 Oct 26  2022 mane_overlap_v4.tar\n",
            "-rw-r--r--    1 ftp      ftp      39471090688 Oct 20  2022 swissprot_cif_v4.tar\n",
            "-rw-r--r--    1 ftp      ftp      28243335168 Oct 20  2022 swissprot_pdb_v4.tar\n",
            "drwxr-xr-x    2 ftp      ftp         40414 Oct 24  2022 updated_entries\n",
            "-rw-r--r--    1 ftp      ftp      151951885 Oct 27  2022 v4_updated_accessions.txt\n"
          ]
        },
        {
          "output_type": "execute_result",
          "data": {
            "text/plain": [
              "'226 Directory send OK.'"
            ],
            "application/vnd.google.colaboratory.intrinsic+json": {
              "type": "string"
            }
          },
          "metadata": {},
          "execution_count": 17
        }
      ]
    },
    {
      "cell_type": "code",
      "source": [
        "from ftplib import FTP\n",
        "from google.colab import files\n",
        "\n",
        "\n",
        "def download_file_from_ftp(remote_file_path, local_file_path):\n",
        "    # Connect to the FTP server\n",
        "    ftp = FTP(\"ftp.ebi.ac.uk\")\n",
        "    ftp.login(user=\"anonymous\", passwd=\"anonymous\")\n",
        "\n",
        "    # Switch to passive mode\n",
        "    ftp.set_pasv(True)\n",
        "\n",
        "    # Increase the buffer size for potentially faster download\n",
        "    buffer_size = 8192\n",
        "\n",
        "    # Download the file\n",
        "    with open(local_file_path, 'wb') as local_file:\n",
        "        ftp.retrbinary('RETR ' + remote_file_path, local_file.write, buffer_size)\n",
        "\n",
        "    # Close the FTP connection\n",
        "    ftp.quit()\n",
        "\n",
        "    # Provide a download link for the local file in Colab\n",
        "    files.download(local_file_path)\n",
        "    print(f\"File downloaded to {local_file_path}\")\n",
        "\n",
        "# Call the function to download the file\n",
        "download_file_from_ftp(\"/pub/databases/alphafold/CHANGELOG.txt\", \"CHANGELOG.txt\")\n",
        "download_file_from_ftp(\"/pub/databases/alphafold/README.txt\", \"README.txt\")\n",
        "download_file_from_ftp(\"/pub/databases/alphafold/v4/UP000000429_85962_HELPY_v4.tar\", \"UP000000429_85962_HELPY_v4.tar\")\n"
      ],
      "metadata": {
        "id": "N72ad08Xwrok",
        "colab": {
          "base_uri": "https://localhost:8080/",
          "height": 88
        },
        "outputId": "e4ee35e3-a5d9-4dff-d7af-e77568ae9487"
      },
      "execution_count": null,
      "outputs": [
        {
          "output_type": "display_data",
          "data": {
            "text/plain": [
              "<IPython.core.display.Javascript object>"
            ],
            "application/javascript": [
              "\n",
              "    async function download(id, filename, size) {\n",
              "      if (!google.colab.kernel.accessAllowed) {\n",
              "        return;\n",
              "      }\n",
              "      const div = document.createElement('div');\n",
              "      const label = document.createElement('label');\n",
              "      label.textContent = `Downloading \"${filename}\": `;\n",
              "      div.appendChild(label);\n",
              "      const progress = document.createElement('progress');\n",
              "      progress.max = size;\n",
              "      div.appendChild(progress);\n",
              "      document.body.appendChild(div);\n",
              "\n",
              "      const buffers = [];\n",
              "      let downloaded = 0;\n",
              "\n",
              "      const channel = await google.colab.kernel.comms.open(id);\n",
              "      // Send a message to notify the kernel that we're ready.\n",
              "      channel.send({})\n",
              "\n",
              "      for await (const message of channel.messages) {\n",
              "        // Send a message to notify the kernel that we're ready.\n",
              "        channel.send({})\n",
              "        if (message.buffers) {\n",
              "          for (const buffer of message.buffers) {\n",
              "            buffers.push(buffer);\n",
              "            downloaded += buffer.byteLength;\n",
              "            progress.value = downloaded;\n",
              "          }\n",
              "        }\n",
              "      }\n",
              "      const blob = new Blob(buffers, {type: 'application/binary'});\n",
              "      const a = document.createElement('a');\n",
              "      a.href = window.URL.createObjectURL(blob);\n",
              "      a.download = filename;\n",
              "      div.appendChild(a);\n",
              "      a.click();\n",
              "      div.remove();\n",
              "    }\n",
              "  "
            ]
          },
          "metadata": {}
        },
        {
          "output_type": "display_data",
          "data": {
            "text/plain": [
              "<IPython.core.display.Javascript object>"
            ],
            "application/javascript": [
              "download(\"download_453b2ef6-0207-4605-9e7e-ba7b0a12c2a9\", \"CHANGELOG.txt\", 3557)"
            ]
          },
          "metadata": {}
        },
        {
          "output_type": "stream",
          "name": "stdout",
          "text": [
            "File downloaded to CHANGELOG.txt\n"
          ]
        },
        {
          "output_type": "display_data",
          "data": {
            "text/plain": [
              "<IPython.core.display.Javascript object>"
            ],
            "application/javascript": [
              "\n",
              "    async function download(id, filename, size) {\n",
              "      if (!google.colab.kernel.accessAllowed) {\n",
              "        return;\n",
              "      }\n",
              "      const div = document.createElement('div');\n",
              "      const label = document.createElement('label');\n",
              "      label.textContent = `Downloading \"${filename}\": `;\n",
              "      div.appendChild(label);\n",
              "      const progress = document.createElement('progress');\n",
              "      progress.max = size;\n",
              "      div.appendChild(progress);\n",
              "      document.body.appendChild(div);\n",
              "\n",
              "      const buffers = [];\n",
              "      let downloaded = 0;\n",
              "\n",
              "      const channel = await google.colab.kernel.comms.open(id);\n",
              "      // Send a message to notify the kernel that we're ready.\n",
              "      channel.send({})\n",
              "\n",
              "      for await (const message of channel.messages) {\n",
              "        // Send a message to notify the kernel that we're ready.\n",
              "        channel.send({})\n",
              "        if (message.buffers) {\n",
              "          for (const buffer of message.buffers) {\n",
              "            buffers.push(buffer);\n",
              "            downloaded += buffer.byteLength;\n",
              "            progress.value = downloaded;\n",
              "          }\n",
              "        }\n",
              "      }\n",
              "      const blob = new Blob(buffers, {type: 'application/binary'});\n",
              "      const a = document.createElement('a');\n",
              "      a.href = window.URL.createObjectURL(blob);\n",
              "      a.download = filename;\n",
              "      div.appendChild(a);\n",
              "      a.click();\n",
              "      div.remove();\n",
              "    }\n",
              "  "
            ]
          },
          "metadata": {}
        },
        {
          "output_type": "display_data",
          "data": {
            "text/plain": [
              "<IPython.core.display.Javascript object>"
            ],
            "application/javascript": [
              "download(\"download_74612aad-ed47-4131-8b45-9559ce9290f4\", \"README.txt\", 3044)"
            ]
          },
          "metadata": {}
        },
        {
          "output_type": "stream",
          "name": "stdout",
          "text": [
            "File downloaded to README.txt\n"
          ]
        },
        {
          "output_type": "display_data",
          "data": {
            "text/plain": [
              "<IPython.core.display.Javascript object>"
            ],
            "application/javascript": [
              "\n",
              "    async function download(id, filename, size) {\n",
              "      if (!google.colab.kernel.accessAllowed) {\n",
              "        return;\n",
              "      }\n",
              "      const div = document.createElement('div');\n",
              "      const label = document.createElement('label');\n",
              "      label.textContent = `Downloading \"${filename}\": `;\n",
              "      div.appendChild(label);\n",
              "      const progress = document.createElement('progress');\n",
              "      progress.max = size;\n",
              "      div.appendChild(progress);\n",
              "      document.body.appendChild(div);\n",
              "\n",
              "      const buffers = [];\n",
              "      let downloaded = 0;\n",
              "\n",
              "      const channel = await google.colab.kernel.comms.open(id);\n",
              "      // Send a message to notify the kernel that we're ready.\n",
              "      channel.send({})\n",
              "\n",
              "      for await (const message of channel.messages) {\n",
              "        // Send a message to notify the kernel that we're ready.\n",
              "        channel.send({})\n",
              "        if (message.buffers) {\n",
              "          for (const buffer of message.buffers) {\n",
              "            buffers.push(buffer);\n",
              "            downloaded += buffer.byteLength;\n",
              "            progress.value = downloaded;\n",
              "          }\n",
              "        }\n",
              "      }\n",
              "      const blob = new Blob(buffers, {type: 'application/binary'});\n",
              "      const a = document.createElement('a');\n",
              "      a.href = window.URL.createObjectURL(blob);\n",
              "      a.download = filename;\n",
              "      div.appendChild(a);\n",
              "      a.click();\n",
              "      div.remove();\n",
              "    }\n",
              "  "
            ]
          },
          "metadata": {}
        },
        {
          "output_type": "display_data",
          "data": {
            "text/plain": [
              "<IPython.core.display.Javascript object>"
            ],
            "application/javascript": [
              "download(\"download_c0431eee-0f3b-454e-9206-af355a3c43d7\", \"UP000000429_85962_HELPY_v4.tar\", 174073856)"
            ]
          },
          "metadata": {}
        },
        {
          "output_type": "stream",
          "name": "stdout",
          "text": [
            "File downloaded to UP000000429_85962_HELPY_v4.tar\n"
          ]
        }
      ]
    }
  ]
}